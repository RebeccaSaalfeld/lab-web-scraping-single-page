{
 "cells": [
  {
   "cell_type": "markdown",
   "metadata": {},
   "source": [
    "# Music recommander"
   ]
  },
  {
   "cell_type": "markdown",
   "metadata": {},
   "source": [
    "## Table of content\n",
    "\n",
    "* [Hot songs list](#popvertex)"
   ]
  },
  {
   "cell_type": "markdown",
   "metadata": {},
   "source": [
    "## Create a list of hotsongs from popvertex.com <a class='anchor' id='popvertex'></a>"
   ]
  },
  {
   "cell_type": "code",
   "execution_count": 1,
   "metadata": {},
   "outputs": [],
   "source": [
    "#Import important libraries\n",
    "from bs4 import BeautifulSoup\n",
    "import requests\n",
    "import pandas as pd\n"
   ]
  },
  {
   "cell_type": "code",
   "execution_count": 2,
   "metadata": {},
   "outputs": [],
   "source": [
    "url = 'https://www.popvortex.com/music/charts/top-100-songs.php'"
   ]
  },
  {
   "cell_type": "code",
   "execution_count": 3,
   "metadata": {},
   "outputs": [
    {
     "data": {
      "text/plain": [
       "200"
      ]
     },
     "execution_count": 3,
     "metadata": {},
     "output_type": "execute_result"
    }
   ],
   "source": [
    "response = requests.get(url)\n",
    "response.status_code "
   ]
  },
  {
   "cell_type": "code",
   "execution_count": 4,
   "metadata": {},
   "outputs": [],
   "source": [
    "soup = BeautifulSoup(response.content, \"html.parser\")"
   ]
  },
  {
   "cell_type": "code",
   "execution_count": null,
   "metadata": {},
   "outputs": [],
   "source": [
    "#soup\n",
    "#print(soup.prettify())"
   ]
  },
  {
   "cell_type": "code",
   "execution_count": null,
   "metadata": {},
   "outputs": [],
   "source": [
    "#chart-position-1 > div.chart-content.col-xs-12.col-sm-8 > p > cite\n",
    "#soup.select('#chart-position-1 > div.chart-content.col-xs-12.col-sm-8 > p > cite')"
   ]
  },
  {
   "cell_type": "code",
   "execution_count": null,
   "metadata": {},
   "outputs": [],
   "source": [
    "#soup.select('div.chart-content.col-xs-12.col-sm-8 ')"
   ]
  },
  {
   "cell_type": "code",
   "execution_count": 5,
   "metadata": {},
   "outputs": [],
   "source": [
    "#Select only the titles:\n",
    "title_soup=soup.select('cite.title')"
   ]
  },
  {
   "cell_type": "code",
   "execution_count": 9,
   "metadata": {},
   "outputs": [
    {
     "data": {
      "text/plain": [
       "'Lizzo'"
      ]
     },
     "execution_count": 9,
     "metadata": {},
     "output_type": "execute_result"
    }
   ],
   "source": [
    "#soup.select('em.artist')[0].get_text()"
   ]
  },
  {
   "cell_type": "code",
   "execution_count": 6,
   "metadata": {},
   "outputs": [],
   "source": [
    "#Genre\n",
    "# This doesn't work. I tried something else, which only works half way, will come back to it!\n",
    "#chart-position-1 > div:nth-child(2) > ul:nth-child(2) > li:nth-child(1) > a:nth-child(2)#\n",
    "\n",
    "genre_soup=soup.select('div:nth-child(2) > ul:nth-child(2) > li:nth-child(1) > a:nth-child(2)')\n",
    "#print(genre_soup[82])"
   ]
  },
  {
   "cell_type": "code",
   "execution_count": null,
   "metadata": {},
   "outputs": [],
   "source": [
    "#chart-position-93 > div.chart-content.col-xs-12.col-sm-8 > ul > li:nth-child(1)\n",
    "#soup.select('div.chart-content.col-xs-12.col-sm-8 > ul > li:nth-child(1)')\n"
   ]
  },
  {
   "cell_type": "code",
   "execution_count": null,
   "metadata": {},
   "outputs": [],
   "source": [
    "#genre = []\n",
    "\n",
    "#ge = soup.select('div.chart-content.col-xs-12.col-sm-8 > ul > li:nth-child(1)')[0]\n",
    "\n",
    "#print(ge)\n",
    "\n",
    "#for ge in soup.select('div.chart-content.col-xs-12.col-sm-8 > ul > li:nth-child(1)'):\n",
    "#    # link = pr['href'] does not work; last item does not have an href\n",
    "#    link = ge.get(\"href\")\n",
    "#    print(link)\n",
    "#    if link is not None:\n",
    "#        if ((\"/wiki\" in link) & \n",
    "#            (\"election\" not in link) & \n",
    "#            (\"residen\" not in link)):\n",
    "#            presidents.append(link)"
   ]
  },
  {
   "cell_type": "code",
   "execution_count": null,
   "metadata": {},
   "outputs": [],
   "source": [
    "#Release Date:\n",
    "##chart-position-19 > div:nth-child(2) > ul:nth-child(2) > li:nth-child(2)\n",
    "# #chart-position-1 > div.chart-content.col-xs-12.col-sm-8 > ul > li:nth-child(2)\n",
    "\n",
    "#release_date = soup.select('div.chart-content.col-xs-12.col-sm-8 > ul > li:nth-child(2)')\n",
    "#display(release_date)\n",
    "\n",
    "##chart-position-1 > div.chart-content.col-xs-12.col-sm-8 > ul > li:nth-child(2)\n",
    "##chart-position-1 > div.chart-content.col-xs-12.col-sm-8 > ul > li:nth-child(1)"
   ]
  },
  {
   "cell_type": "markdown",
   "metadata": {},
   "source": [
    "## Create dataframe"
   ]
  },
  {
   "cell_type": "code",
   "execution_count": 7,
   "metadata": {},
   "outputs": [
    {
     "name": "stdout",
     "output_type": "stream",
     "text": [
      "100\n"
     ]
    }
   ],
   "source": [
    "#initialize empty lists\n",
    "title = []\n",
    "artist = []\n",
    "genre = []\n",
    "\n",
    "\n",
    "## define the number of iterations of our for loop\n",
    "## by checking how many elements are in the retrieved result set\n",
    "## (this is equivalent but more robust than just explicitly defining 250 iterations)\n",
    "num_iter = len(soup.select(\"cite.title\"))\n",
    "print(num_iter)\n",
    "#\n",
    "\n",
    "artist_soup = soup.select('em.artist')\n",
    "# = soup.select(\"\")\n",
    "#spanlist = soup.select(\"td.titleColumn span.secondaryInfo\")\n",
    "### iterate through the result set and retrive all the data\n",
    "for i in range(num_iter):\n",
    "    title.append(title_soup[i].get_text())\n",
    "    artist.append(artist_soup[i].get_text())\n",
    "    try:\n",
    "        genre.append(genre_soup[i].get_text())\n",
    "    except:\n",
    "        genre.append(\"NA\")\n",
    "    \n",
    "#\n",
    "#print(title)\n",
    "#print(dir_stars)\n",
    "#print(year)"
   ]
  },
  {
   "cell_type": "code",
   "execution_count": 8,
   "metadata": {
    "scrolled": true
   },
   "outputs": [
    {
     "data": {
      "text/html": [
       "<div>\n",
       "<style scoped>\n",
       "    .dataframe tbody tr th:only-of-type {\n",
       "        vertical-align: middle;\n",
       "    }\n",
       "\n",
       "    .dataframe tbody tr th {\n",
       "        vertical-align: top;\n",
       "    }\n",
       "\n",
       "    .dataframe thead th {\n",
       "        text-align: right;\n",
       "    }\n",
       "</style>\n",
       "<table border=\"1\" class=\"dataframe\">\n",
       "  <thead>\n",
       "    <tr style=\"text-align: right;\">\n",
       "      <th></th>\n",
       "      <th>title</th>\n",
       "      <th>artist</th>\n",
       "      <th>genre</th>\n",
       "    </tr>\n",
       "  </thead>\n",
       "  <tbody>\n",
       "    <tr>\n",
       "      <th>1</th>\n",
       "      <td>Progress</td>\n",
       "      <td>John Rich</td>\n",
       "      <td>Pop</td>\n",
       "    </tr>\n",
       "    <tr>\n",
       "      <th>2</th>\n",
       "      <td>Running Up That Hill (A Deal with God)</td>\n",
       "      <td>Kate Bush</td>\n",
       "      <td>Pop</td>\n",
       "    </tr>\n",
       "    <tr>\n",
       "      <th>3</th>\n",
       "      <td>About Damn Time</td>\n",
       "      <td>Lizzo</td>\n",
       "      <td>Country</td>\n",
       "    </tr>\n",
       "    <tr>\n",
       "      <th>4</th>\n",
       "      <td>TV</td>\n",
       "      <td>Billie Eilish</td>\n",
       "      <td>Country</td>\n",
       "    </tr>\n",
       "    <tr>\n",
       "      <th>5</th>\n",
       "      <td>You Can Have Him Jolene</td>\n",
       "      <td>Chapel Hart</td>\n",
       "      <td>Pop</td>\n",
       "    </tr>\n",
       "    <tr>\n",
       "      <th>...</th>\n",
       "      <td>...</td>\n",
       "      <td>...</td>\n",
       "      <td>...</td>\n",
       "    </tr>\n",
       "    <tr>\n",
       "      <th>96</th>\n",
       "      <td>Thick Fine Woman (feat. Lil' Ronny Mothaf, Fat...</td>\n",
       "      <td>Chalie Boy</td>\n",
       "      <td>NA</td>\n",
       "    </tr>\n",
       "    <tr>\n",
       "      <th>97</th>\n",
       "      <td>Perfect</td>\n",
       "      <td>Ed Sheeran</td>\n",
       "      <td>NA</td>\n",
       "    </tr>\n",
       "    <tr>\n",
       "      <th>98</th>\n",
       "      <td>Night Changes</td>\n",
       "      <td>One Direction</td>\n",
       "      <td>NA</td>\n",
       "    </tr>\n",
       "    <tr>\n",
       "      <th>99</th>\n",
       "      <td>Night Stalkers (feat. Ice-T)</td>\n",
       "      <td>Megadeth</td>\n",
       "      <td>NA</td>\n",
       "    </tr>\n",
       "    <tr>\n",
       "      <th>100</th>\n",
       "      <td>Wellerman (Sea Shanty)</td>\n",
       "      <td>Nathan Evans</td>\n",
       "      <td>NA</td>\n",
       "    </tr>\n",
       "  </tbody>\n",
       "</table>\n",
       "<p>100 rows × 3 columns</p>\n",
       "</div>"
      ],
      "text/plain": [
       "                                                 title         artist    genre\n",
       "1                                             Progress      John Rich      Pop\n",
       "2               Running Up That Hill (A Deal with God)      Kate Bush      Pop\n",
       "3                                      About Damn Time          Lizzo  Country\n",
       "4                                                   TV  Billie Eilish  Country\n",
       "5                              You Can Have Him Jolene    Chapel Hart      Pop\n",
       "..                                                 ...            ...      ...\n",
       "96   Thick Fine Woman (feat. Lil' Ronny Mothaf, Fat...     Chalie Boy       NA\n",
       "97                                             Perfect     Ed Sheeran       NA\n",
       "98                                       Night Changes  One Direction       NA\n",
       "99                        Night Stalkers (feat. Ice-T)       Megadeth       NA\n",
       "100                             Wellerman (Sea Shanty)   Nathan Evans       NA\n",
       "\n",
       "[100 rows x 3 columns]"
      ]
     },
     "metadata": {},
     "output_type": "display_data"
    }
   ],
   "source": [
    "# each list becomes a column\n",
    "top_100 = pd.DataFrame({'title':title,\n",
    "                       'artist':artist,\n",
    "                        'genre':genre\n",
    "                      })\n",
    "top_100.index += 1\n",
    "display(top_100)"
   ]
  },
  {
   "cell_type": "code",
   "execution_count": null,
   "metadata": {},
   "outputs": [],
   "source": [
    "#top_100[top_100['genre'] == 'NA']"
   ]
  },
  {
   "cell_type": "code",
   "execution_count": 9,
   "metadata": {},
   "outputs": [],
   "source": [
    "## https://stackoverflow.com/questions/39512002/convert-whole-dataframe-from-lower-case-to-upper-case-with-pandas\n",
    "top_100_lower = top_100.apply(lambda x: x.astype(str).str.lower())"
   ]
  },
  {
   "cell_type": "markdown",
   "metadata": {},
   "source": [
    "## Use different website:"
   ]
  },
  {
   "cell_type": "code",
   "execution_count": 10,
   "metadata": {},
   "outputs": [],
   "source": [
    "url2 = 'https://playback.fm/charts/top-100-songs/2021'"
   ]
  },
  {
   "cell_type": "code",
   "execution_count": 11,
   "metadata": {},
   "outputs": [
    {
     "data": {
      "text/plain": [
       "200"
      ]
     },
     "execution_count": 11,
     "metadata": {},
     "output_type": "execute_result"
    }
   ],
   "source": [
    "response = requests.get(url2)\n",
    "response.status_code "
   ]
  },
  {
   "cell_type": "code",
   "execution_count": 12,
   "metadata": {},
   "outputs": [],
   "source": [
    "soup2 = BeautifulSoup(response.content, \"html.parser\")"
   ]
  },
  {
   "cell_type": "code",
   "execution_count": null,
   "metadata": {},
   "outputs": [],
   "source": [
    "#print(soup2.prettify())"
   ]
  },
  {
   "cell_type": "code",
   "execution_count": 13,
   "metadata": {},
   "outputs": [
    {
     "data": {
      "text/plain": [
       "'Dua Lipa & DaBaby'"
      ]
     },
     "execution_count": 13,
     "metadata": {},
     "output_type": "execute_result"
    }
   ],
   "source": [
    "# Selecting the info we want to have: at least title and artist, if available genre:\n",
    "\n",
    "soup2.select('tr td a.artist')[0].get_text().replace('\\n','')\n"
   ]
  },
  {
   "cell_type": "code",
   "execution_count": 14,
   "metadata": {},
   "outputs": [
    {
     "data": {
      "text/plain": [
       "100"
      ]
     },
     "execution_count": 14,
     "metadata": {},
     "output_type": "execute_result"
    }
   ],
   "source": [
    "len(soup2.select('tr td a.artist'))"
   ]
  },
  {
   "cell_type": "code",
   "execution_count": 15,
   "metadata": {},
   "outputs": [
    {
     "data": {
      "text/plain": [
       "'Levitating'"
      ]
     },
     "execution_count": 15,
     "metadata": {},
     "output_type": "execute_result"
    }
   ],
   "source": [
    "soup2.select('tr td span.song')[1].get_text().replace('\\n','')\n",
    "#soup2.find_all(class_=\"song\")\n"
   ]
  },
  {
   "cell_type": "code",
   "execution_count": 16,
   "metadata": {},
   "outputs": [
    {
     "data": {
      "text/plain": [
       "200"
      ]
     },
     "execution_count": 16,
     "metadata": {},
     "output_type": "execute_result"
    }
   ],
   "source": [
    "len(soup2.select('tr td span.song'))"
   ]
  },
  {
   "cell_type": "code",
   "execution_count": 17,
   "metadata": {},
   "outputs": [
    {
     "name": "stdout",
     "output_type": "stream",
     "text": [
      "[0, 2, 4, 6, 8, 10, 12, 14, 16, 18, 20, 22, 24, 26, 28, 30, 32, 34, 36, 38, 40, 42, 44, 46, 48, 50, 52, 54, 56, 58, 60, 62, 64, 66, 68, 70, 72, 74, 76, 78, 80, 82, 84, 86, 88, 90, 92, 94, 96, 98, 100, 102, 104, 106, 108, 110, 112, 114, 116, 118, 120, 122, 124, 126, 128, 130, 132, 134, 136, 138, 140, 142, 144, 146, 148, 150, 152, 154, 156, 158, 160, 162, 164, 166, 168, 170, 172, 174, 176, 178, 180, 182, 184, 186, 188, 190, 192, 194, 196, 198]\n"
     ]
    }
   ],
   "source": [
    "iterations = range(0,200, 2)\n",
    "print([i for i in iterations])\n",
    "\n",
    "title2 = []\n",
    "artist2 = []\n",
    "\n",
    "for i in iterations:\n",
    "    title2.append(soup2.select('tr td span.song')[i].get_text().replace('\\n',''))\n",
    "\n",
    "for i in range(0, 100):\n",
    "    artist2.append(soup2.select('tr td a.artist')[i].get_text().replace('\\n', ''))\n",
    "\n"
   ]
  },
  {
   "cell_type": "code",
   "execution_count": 18,
   "metadata": {},
   "outputs": [
    {
     "data": {
      "text/html": [
       "<div>\n",
       "<style scoped>\n",
       "    .dataframe tbody tr th:only-of-type {\n",
       "        vertical-align: middle;\n",
       "    }\n",
       "\n",
       "    .dataframe tbody tr th {\n",
       "        vertical-align: top;\n",
       "    }\n",
       "\n",
       "    .dataframe thead th {\n",
       "        text-align: right;\n",
       "    }\n",
       "</style>\n",
       "<table border=\"1\" class=\"dataframe\">\n",
       "  <thead>\n",
       "    <tr style=\"text-align: right;\">\n",
       "      <th></th>\n",
       "      <th>title</th>\n",
       "      <th>artist</th>\n",
       "    </tr>\n",
       "  </thead>\n",
       "  <tbody>\n",
       "    <tr>\n",
       "      <th>1</th>\n",
       "      <td>Levitating</td>\n",
       "      <td>Dua Lipa &amp; DaBaby</td>\n",
       "    </tr>\n",
       "    <tr>\n",
       "      <th>2</th>\n",
       "      <td>Drivers License</td>\n",
       "      <td>Olivia Rodrigo</td>\n",
       "    </tr>\n",
       "    <tr>\n",
       "      <th>3</th>\n",
       "      <td>Save Your Tears</td>\n",
       "      <td>The Weeknd &amp; Ariana Grande</td>\n",
       "    </tr>\n",
       "    <tr>\n",
       "      <th>4</th>\n",
       "      <td>Montero (Call Me by Your Name)</td>\n",
       "      <td>Lil Nas X</td>\n",
       "    </tr>\n",
       "    <tr>\n",
       "      <th>5</th>\n",
       "      <td>Blinding Lights</td>\n",
       "      <td>The Weeknd</td>\n",
       "    </tr>\n",
       "    <tr>\n",
       "      <th>...</th>\n",
       "      <td>...</td>\n",
       "      <td>...</td>\n",
       "    </tr>\n",
       "    <tr>\n",
       "      <th>96</th>\n",
       "      <td>Leave Before You Love Me</td>\n",
       "      <td>Marshmello &amp; Jonas Brothers</td>\n",
       "    </tr>\n",
       "    <tr>\n",
       "      <th>97</th>\n",
       "      <td>Beggin</td>\n",
       "      <td>Maneskin</td>\n",
       "    </tr>\n",
       "    <tr>\n",
       "      <th>98</th>\n",
       "      <td>Famous Friends</td>\n",
       "      <td>Chris Young + Kane Brown</td>\n",
       "    </tr>\n",
       "    <tr>\n",
       "      <th>99</th>\n",
       "      <td>Lil Bit</td>\n",
       "      <td>Nelly &amp; Florida Georgia Line</td>\n",
       "    </tr>\n",
       "    <tr>\n",
       "      <th>100</th>\n",
       "      <td>Thot Shit</td>\n",
       "      <td>Megan Thee Stallion</td>\n",
       "    </tr>\n",
       "  </tbody>\n",
       "</table>\n",
       "<p>100 rows × 2 columns</p>\n",
       "</div>"
      ],
      "text/plain": [
       "                              title                        artist\n",
       "1                        Levitating             Dua Lipa & DaBaby\n",
       "2                   Drivers License                Olivia Rodrigo\n",
       "3                   Save Your Tears    The Weeknd & Ariana Grande\n",
       "4    Montero (Call Me by Your Name)                     Lil Nas X\n",
       "5                   Blinding Lights                    The Weeknd\n",
       "..                              ...                           ...\n",
       "96         Leave Before You Love Me   Marshmello & Jonas Brothers\n",
       "97                           Beggin                      Maneskin\n",
       "98                   Famous Friends      Chris Young + Kane Brown\n",
       "99                          Lil Bit  Nelly & Florida Georgia Line\n",
       "100                       Thot Shit           Megan Thee Stallion\n",
       "\n",
       "[100 rows x 2 columns]"
      ]
     },
     "metadata": {},
     "output_type": "display_data"
    }
   ],
   "source": [
    "# Create a DataFrame:\n",
    "top_100_21 = pd.DataFrame({'title':title2,\n",
    "                       'artist':artist2,\n",
    "                      })\n",
    "\n",
    "top_100_21.index += 1\n",
    "display(top_100_21)"
   ]
  },
  {
   "cell_type": "markdown",
   "metadata": {},
   "source": [
    "## 1st prototype"
   ]
  },
  {
   "cell_type": "code",
   "execution_count": 19,
   "metadata": {},
   "outputs": [],
   "source": [
    "#Import libraries:\n",
    "import random\n",
    "import spotipy\n",
    "from spotipy.oauth2 import SpotifyClientCredentials"
   ]
  },
  {
   "cell_type": "code",
   "execution_count": 20,
   "metadata": {},
   "outputs": [],
   "source": [
    "secrets_file = open(\"client.txt\",\"r\")"
   ]
  },
  {
   "cell_type": "code",
   "execution_count": 21,
   "metadata": {},
   "outputs": [],
   "source": [
    "string = secrets_file.read()\n",
    "\n",
    "client_dict={}\n",
    "for line in string.split('\\n'):\n",
    "    if len(line) > 0:\n",
    "        client_dict[line.split(':')[0]]=line.split(':')[1]"
   ]
  },
  {
   "cell_type": "code",
   "execution_count": 22,
   "metadata": {},
   "outputs": [],
   "source": [
    "#Initialize SpotiPy with user credentials\n",
    "sp = spotipy.Spotify(auth_manager=SpotifyClientCredentials(client_id=client_dict['cid'],\n",
    "                                                           client_secret=client_dict['cids']))"
   ]
  },
  {
   "cell_type": "code",
   "execution_count": 23,
   "metadata": {},
   "outputs": [
    {
     "name": "stdout",
     "output_type": "stream",
     "text": [
      "Enter your favourite song (without artist): Vergiss den Quatsch\n"
     ]
    }
   ],
   "source": [
    "# Let the user give a song:\n",
    "song = input(\"Enter your favourite song (without artist): \")"
   ]
  },
  {
   "cell_type": "code",
   "execution_count": 24,
   "metadata": {},
   "outputs": [
    {
     "name": "stdout",
     "output_type": "stream",
     "text": [
      "Your recommandation will be up very soon!\n"
     ]
    }
   ],
   "source": [
    "#make the input lower case, so all the mess that can happen during the input is minimized\n",
    "song = song.lower()\n",
    "\n",
    "#create a list with booleans, then put this into the dataframe to get the line with the song and check on the length of this df.\n",
    "# If it is 0 we haven't found a title --> It is not in the Top Ten\n",
    "if len(top_100_lower[top_100_lower['title'].str.contains(song)]) >= 1:\n",
    "    n = random.randint(1,100)   # create a random number to make a suggestion\n",
    "    print('Yay, hot song! Here is another one for you: \\n \\n' + str(top_100.iloc[n, 0]) + ' - ' + str(top_100.iloc[n, 1]))\n",
    "    #print out the title and the artist (This time from top_100, because titles have the original format)\n",
    "else: \n",
    "    result = sp.search(q=song, limit=1) #Search for the song in spotify\n",
    "    sp.audio_features(result['tracks']['items'][0]['uri']) # Get the audio features of the song. (They come in a list of a dict)\n",
    "    print('Your recommandation will be up very soon!')"
   ]
  },
  {
   "cell_type": "code",
   "execution_count": null,
   "metadata": {},
   "outputs": [],
   "source": []
  },
  {
   "cell_type": "markdown",
   "metadata": {},
   "source": [
    "## API Wrapper "
   ]
  },
  {
   "cell_type": "markdown",
   "metadata": {},
   "source": [
    "### Get a lot of songs from spotify"
   ]
  },
  {
   "cell_type": "code",
   "execution_count": 25,
   "metadata": {},
   "outputs": [],
   "source": [
    "from random import randint\n",
    "from time import sleep\n"
   ]
  },
  {
   "cell_type": "code",
   "execution_count": 26,
   "metadata": {},
   "outputs": [],
   "source": [
    "def get_playlist_tracks(playlist_id):\n",
    "    results = sp.user_playlist_tracks(\"spotify\",playlist_id)\n",
    "    tracks = results['items']\n",
    "    while results['next']!=None:\n",
    "        results = sp.next(results)\n",
    "        tracks = tracks + results['items']\n",
    "        sleep(randint(1,4))\n",
    "    return tracks"
   ]
  },
  {
   "cell_type": "code",
   "execution_count": 27,
   "metadata": {},
   "outputs": [
    {
     "data": {
      "text/plain": [
       "1161"
      ]
     },
     "execution_count": 27,
     "metadata": {},
     "output_type": "execute_result"
    }
   ],
   "source": [
    "#I will drop this list for now. It makes trouble if I try to get the audio_features\n",
    "\n",
    "#all_tracks = get_playlist_tracks(\"2vRHlMK0tAjpc8ytrq2k6u\")\n",
    "#len(all_tracks)"
   ]
  },
  {
   "cell_type": "code",
   "execution_count": 28,
   "metadata": {},
   "outputs": [
    {
     "data": {
      "text/plain": [
       "878"
      ]
     },
     "execution_count": 28,
     "metadata": {},
     "output_type": "execute_result"
    }
   ],
   "source": [
    "all_tracks_list2 = get_playlist_tracks('0WlM1nXTFPNfQPxrBqeoLM') #diverse genres\n",
    "len(all_tracks_list2)"
   ]
  },
  {
   "cell_type": "code",
   "execution_count": 29,
   "metadata": {},
   "outputs": [
    {
     "data": {
      "text/plain": [
       "711"
      ]
     },
     "execution_count": 29,
     "metadata": {},
     "output_type": "execute_result"
    }
   ],
   "source": [
    "all_tracks_list3 = get_playlist_tracks('1bj48nDPsdQGgJ1nCaByaf') #fun random playlist\n",
    "len(all_tracks_list3)"
   ]
  },
  {
   "cell_type": "code",
   "execution_count": 30,
   "metadata": {},
   "outputs": [
    {
     "data": {
      "text/plain": [
       "646"
      ]
     },
     "execution_count": 30,
     "metadata": {},
     "output_type": "execute_result"
    }
   ],
   "source": [
    "all_tracks_list4 = get_playlist_tracks('1AHslv5RdimDGm8Nk6VJkk') #genre mix\n",
    "len(all_tracks_list4)"
   ]
  },
  {
   "cell_type": "code",
   "execution_count": 129,
   "metadata": {},
   "outputs": [
    {
     "data": {
      "text/plain": [
       "1108"
      ]
     },
     "execution_count": 129,
     "metadata": {},
     "output_type": "execute_result"
    }
   ],
   "source": [
    "#List with warnings; I ignore that list for now\n",
    "\n",
    "#all_tracks_list5 = get_playlist_tracks('1NyNNa42YWGwAdv6osz2EN') #long playlist\n",
    "#len(all_tracks_list5)"
   ]
  },
  {
   "cell_type": "code",
   "execution_count": 31,
   "metadata": {},
   "outputs": [
    {
     "data": {
      "text/plain": [
       "3229"
      ]
     },
     "execution_count": 31,
     "metadata": {},
     "output_type": "execute_result"
    }
   ],
   "source": [
    "all_tracks_list6 = get_playlist_tracks('3kpzURw4wImwjy2KSCEaI3') #long playlist\n",
    "len(all_tracks_list6)\n"
   ]
  },
  {
   "cell_type": "code",
   "execution_count": 32,
   "metadata": {},
   "outputs": [
    {
     "data": {
      "text/plain": [
       "825"
      ]
     },
     "execution_count": 32,
     "metadata": {},
     "output_type": "execute_result"
    }
   ],
   "source": [
    "all_tracks_list7 = get_playlist_tracks('0HsCsZ4E1u4qphYyKE86ZM') #all music\n",
    "len(all_tracks_list7)"
   ]
  },
  {
   "cell_type": "code",
   "execution_count": 33,
   "metadata": {},
   "outputs": [
    {
     "data": {
      "text/plain": [
       "3256"
      ]
     },
     "execution_count": 33,
     "metadata": {},
     "output_type": "execute_result"
    }
   ],
   "source": [
    "all_tracks_list8 = get_playlist_tracks('4ZYXT3yLVknnKH8CNsT8ET') #all music\n",
    "len(all_tracks_list8)"
   ]
  },
  {
   "cell_type": "code",
   "execution_count": 134,
   "metadata": {},
   "outputs": [
    {
     "data": {
      "text/plain": [
       "3801"
      ]
     },
     "execution_count": 134,
     "metadata": {},
     "output_type": "execute_result"
    }
   ],
   "source": [
    "#List with warnings; I ignore that list for now\n",
    "\n",
    "#all_tracks_list9 = get_playlist_tracks('3zfCkToBS7QJpcIJEtUklb') #all music\n",
    "#len(all_tracks_list9)"
   ]
  },
  {
   "cell_type": "code",
   "execution_count": 34,
   "metadata": {},
   "outputs": [
    {
     "data": {
      "text/plain": [
       "1660"
      ]
     },
     "execution_count": 34,
     "metadata": {},
     "output_type": "execute_result"
    }
   ],
   "source": [
    "all_tracks_list10 = get_playlist_tracks('2iBH9S3UXlrtUBxjffgZEh') #80s&90s\n",
    "len(all_tracks_list10)"
   ]
  },
  {
   "cell_type": "code",
   "execution_count": 35,
   "metadata": {},
   "outputs": [
    {
     "data": {
      "text/plain": [
       "824"
      ]
     },
     "execution_count": 35,
     "metadata": {},
     "output_type": "execute_result"
    }
   ],
   "source": [
    "all_tracks_list11 = get_playlist_tracks('4YBSookQOgwKnV7SoKD5Xt') #soundtracks\n",
    "len(all_tracks_list11)"
   ]
  },
  {
   "cell_type": "code",
   "execution_count": 36,
   "metadata": {},
   "outputs": [
    {
     "data": {
      "text/plain": [
       "289"
      ]
     },
     "execution_count": 36,
     "metadata": {},
     "output_type": "execute_result"
    }
   ],
   "source": [
    "all_tracks_list12 = get_playlist_tracks('7mCzIltN0jFQ54GH02HMsY') #punk & hardcore\n",
    "len(all_tracks_list12)"
   ]
  },
  {
   "cell_type": "code",
   "execution_count": 37,
   "metadata": {},
   "outputs": [
    {
     "data": {
      "text/plain": [
       "307"
      ]
     },
     "execution_count": 37,
     "metadata": {},
     "output_type": "execute_result"
    }
   ],
   "source": [
    "all_tracks_list13 = get_playlist_tracks('4XCFr8uv2KtJ4m6wVqHleH') #unknown artists\n",
    "len(all_tracks_list13)"
   ]
  },
  {
   "cell_type": "code",
   "execution_count": 38,
   "metadata": {},
   "outputs": [
    {
     "data": {
      "text/plain": [
       "403"
      ]
     },
     "execution_count": 38,
     "metadata": {},
     "output_type": "execute_result"
    }
   ],
   "source": [
    "all_tracks_list14 = get_playlist_tracks('38FR16cjJs9rsWXo6EL22x') #unknown songs\n",
    "len(all_tracks_list14)"
   ]
  },
  {
   "cell_type": "code",
   "execution_count": 39,
   "metadata": {},
   "outputs": [
    {
     "data": {
      "text/plain": [
       "267"
      ]
     },
     "execution_count": 39,
     "metadata": {},
     "output_type": "execute_result"
    }
   ],
   "source": [
    "all_tracks_list15 = get_playlist_tracks('5tOffZXVBFTMS7mkKQ3tpX') #indie folk chill\n",
    "len(all_tracks_list15)"
   ]
  },
  {
   "cell_type": "markdown",
   "metadata": {},
   "source": [
    "### Put all lists together"
   ]
  },
  {
   "cell_type": "code",
   "execution_count": 65,
   "metadata": {},
   "outputs": [
    {
     "data": {
      "text/plain": [
       "13295"
      ]
     },
     "execution_count": 65,
     "metadata": {},
     "output_type": "execute_result"
    }
   ],
   "source": [
    "all_playlists = all_tracks_list2+all_tracks_list3+all_tracks_list4+all_tracks_list6+all_tracks_list7+all_tracks_list8+ \\\n",
    "                all_tracks_list10+all_tracks_list11+all_tracks_list12+all_tracks_list13+all_tracks_list14+all_tracks_list15\n",
    "len(all_playlists)"
   ]
  },
  {
   "cell_type": "markdown",
   "metadata": {},
   "source": [
    "### Create a dataframe from all the track lists"
   ]
  },
  {
   "cell_type": "code",
   "execution_count": 66,
   "metadata": {},
   "outputs": [],
   "source": [
    "# This and the following cell is mostly code from martin:  \n",
    "title = []\n",
    "track_id = []\n",
    "\n",
    "for list_el in all_playlists:\n",
    "    try:\n",
    "        title.append(list_el['track']['name']) \n",
    "        track_id.append(list_el['track']['id'])\n",
    "    except:\n",
    "        continue # for the titles with None - value\n"
   ]
  },
  {
   "cell_type": "code",
   "execution_count": 67,
   "metadata": {},
   "outputs": [],
   "source": [
    "artist = []\n",
    "for list_el in all_playlists:\n",
    "    try:\n",
    "        artist.append(list_el['track']['artists'][0]['name'])\n",
    "    except:\n",
    "        continue\n"
   ]
  },
  {
   "cell_type": "code",
   "execution_count": 68,
   "metadata": {},
   "outputs": [],
   "source": [
    "songlist=pd.DataFrame(list(zip(title, track_id, artist)), columns=['title','track_id','artist'])\n",
    "songlist.index +=1"
   ]
  },
  {
   "cell_type": "code",
   "execution_count": 106,
   "metadata": {},
   "outputs": [
    {
     "data": {
      "text/html": [
       "<div>\n",
       "<style scoped>\n",
       "    .dataframe tbody tr th:only-of-type {\n",
       "        vertical-align: middle;\n",
       "    }\n",
       "\n",
       "    .dataframe tbody tr th {\n",
       "        vertical-align: top;\n",
       "    }\n",
       "\n",
       "    .dataframe thead th {\n",
       "        text-align: right;\n",
       "    }\n",
       "</style>\n",
       "<table border=\"1\" class=\"dataframe\">\n",
       "  <thead>\n",
       "    <tr style=\"text-align: right;\">\n",
       "      <th></th>\n",
       "      <th>title</th>\n",
       "      <th>track_id</th>\n",
       "      <th>artist</th>\n",
       "    </tr>\n",
       "  </thead>\n",
       "  <tbody>\n",
       "    <tr>\n",
       "      <th>1</th>\n",
       "      <td>Young Forever</td>\n",
       "      <td>5hvrMHJMadUSbfyV8F27Dr</td>\n",
       "      <td>High Valley</td>\n",
       "    </tr>\n",
       "    <tr>\n",
       "      <th>2</th>\n",
       "      <td>House Party</td>\n",
       "      <td>1TwLKNsCnhi1HxbIi4bAW0</td>\n",
       "      <td>Sam Hunt</td>\n",
       "    </tr>\n",
       "    <tr>\n",
       "      <th>3</th>\n",
       "      <td>Die A Happy Man</td>\n",
       "      <td>5kNe7PE09d6Kvw5pAsx23n</td>\n",
       "      <td>Thomas Rhett</td>\n",
       "    </tr>\n",
       "    <tr>\n",
       "      <th>4</th>\n",
       "      <td>Stay A Little Longer</td>\n",
       "      <td>6rqxivjFHp8K0yMiefG56g</td>\n",
       "      <td>Brothers Osborne</td>\n",
       "    </tr>\n",
       "    <tr>\n",
       "      <th>5</th>\n",
       "      <td>I Love This Life</td>\n",
       "      <td>1kneRrMfS08JwuqKwnX4fl</td>\n",
       "      <td>LOCASH</td>\n",
       "    </tr>\n",
       "    <tr>\n",
       "      <th>...</th>\n",
       "      <td>...</td>\n",
       "      <td>...</td>\n",
       "      <td>...</td>\n",
       "    </tr>\n",
       "    <tr>\n",
       "      <th>13290</th>\n",
       "      <td>Journey Home</td>\n",
       "      <td>14DFvObv2dHAHnrYzagMUR</td>\n",
       "      <td>Freight Train Foxes</td>\n",
       "    </tr>\n",
       "    <tr>\n",
       "      <th>13291</th>\n",
       "      <td>Cold Water Swimming</td>\n",
       "      <td>2ht5pkjS9mcShiPGcOmfM3</td>\n",
       "      <td>Quiet Houses</td>\n",
       "    </tr>\n",
       "    <tr>\n",
       "      <th>13292</th>\n",
       "      <td>June</td>\n",
       "      <td>3mtu7CfHAHl1lArE0DzMPX</td>\n",
       "      <td>Pacing</td>\n",
       "    </tr>\n",
       "    <tr>\n",
       "      <th>13293</th>\n",
       "      <td>Permafrost</td>\n",
       "      <td>47aKE9cfKLyecAsxL2OaEC</td>\n",
       "      <td>J.B. Boone</td>\n",
       "    </tr>\n",
       "    <tr>\n",
       "      <th>13294</th>\n",
       "      <td>Walk You Home (In the Mornin' Mist)</td>\n",
       "      <td>748HpupwUf42wzwouGqHOR</td>\n",
       "      <td>Elliott Ok</td>\n",
       "    </tr>\n",
       "  </tbody>\n",
       "</table>\n",
       "<p>13294 rows × 3 columns</p>\n",
       "</div>"
      ],
      "text/plain": [
       "                                     title                track_id  \\\n",
       "1                            Young Forever  5hvrMHJMadUSbfyV8F27Dr   \n",
       "2                              House Party  1TwLKNsCnhi1HxbIi4bAW0   \n",
       "3                          Die A Happy Man  5kNe7PE09d6Kvw5pAsx23n   \n",
       "4                     Stay A Little Longer  6rqxivjFHp8K0yMiefG56g   \n",
       "5                         I Love This Life  1kneRrMfS08JwuqKwnX4fl   \n",
       "...                                    ...                     ...   \n",
       "13290                         Journey Home  14DFvObv2dHAHnrYzagMUR   \n",
       "13291                  Cold Water Swimming  2ht5pkjS9mcShiPGcOmfM3   \n",
       "13292                                 June  3mtu7CfHAHl1lArE0DzMPX   \n",
       "13293                           Permafrost  47aKE9cfKLyecAsxL2OaEC   \n",
       "13294  Walk You Home (In the Mornin' Mist)  748HpupwUf42wzwouGqHOR   \n",
       "\n",
       "                    artist  \n",
       "1              High Valley  \n",
       "2                 Sam Hunt  \n",
       "3             Thomas Rhett  \n",
       "4         Brothers Osborne  \n",
       "5                   LOCASH  \n",
       "...                    ...  \n",
       "13290  Freight Train Foxes  \n",
       "13291         Quiet Houses  \n",
       "13292               Pacing  \n",
       "13293           J.B. Boone  \n",
       "13294           Elliott Ok  \n",
       "\n",
       "[13294 rows x 3 columns]"
      ]
     },
     "execution_count": 106,
     "metadata": {},
     "output_type": "execute_result"
    }
   ],
   "source": [
    "songlist.drop_duplicates()\n",
    "songlist"
   ]
  },
  {
   "cell_type": "markdown",
   "metadata": {},
   "source": [
    "### Get audio features from spotify"
   ]
  },
  {
   "cell_type": "code",
   "execution_count": 61,
   "metadata": {},
   "outputs": [
    {
     "name": "stdout",
     "output_type": "stream",
     "text": [
      "502\n",
      "1003\n",
      "1504\n",
      "2005\n",
      "2506\n",
      "3007\n",
      "3508\n",
      "4009\n",
      "4510\n",
      "5011\n",
      "5512\n",
      "6013\n",
      "6514\n",
      "7015\n",
      "7516\n",
      "8017\n",
      "8518\n",
      "9019\n",
      "9520\n",
      "10021\n",
      "10522\n",
      "11023\n",
      "11524\n",
      "12025\n",
      "12527\n",
      "13028\n"
     ]
    }
   ],
   "source": [
    "counter = 0\n",
    "audio_features2=[]\n",
    "\n",
    "for i in range(0, len(all_playlists)):\n",
    "    try:\n",
    "        if counter == 500:\n",
    "            print(i)\n",
    "            sleep(randint(1,3))\n",
    "            counter=0\n",
    "        else:\n",
    "            audio_features2.append(sp.audio_features(all_playlists[i]['track']['uri']))\n",
    "            counter+=1\n",
    "    except:\n",
    "        continue\n",
    "\n",
    "\n",
    "    "
   ]
  },
  {
   "cell_type": "code",
   "execution_count": 43,
   "metadata": {},
   "outputs": [],
   "source": [
    "def flatten(input_list):\n",
    "    return [item for sublist in input_list for item in sublist] "
   ]
  },
  {
   "cell_type": "code",
   "execution_count": 115,
   "metadata": {},
   "outputs": [
    {
     "data": {
      "text/html": [
       "<div>\n",
       "<style scoped>\n",
       "    .dataframe tbody tr th:only-of-type {\n",
       "        vertical-align: middle;\n",
       "    }\n",
       "\n",
       "    .dataframe tbody tr th {\n",
       "        vertical-align: top;\n",
       "    }\n",
       "\n",
       "    .dataframe thead th {\n",
       "        text-align: right;\n",
       "    }\n",
       "</style>\n",
       "<table border=\"1\" class=\"dataframe\">\n",
       "  <thead>\n",
       "    <tr style=\"text-align: right;\">\n",
       "      <th></th>\n",
       "      <th>danceability</th>\n",
       "      <th>energy</th>\n",
       "      <th>key</th>\n",
       "      <th>loudness</th>\n",
       "      <th>mode</th>\n",
       "      <th>speechiness</th>\n",
       "      <th>acousticness</th>\n",
       "      <th>instrumentalness</th>\n",
       "      <th>liveness</th>\n",
       "      <th>valence</th>\n",
       "      <th>tempo</th>\n",
       "      <th>type</th>\n",
       "      <th>track_id</th>\n",
       "      <th>uri</th>\n",
       "      <th>track_href</th>\n",
       "      <th>analysis_url</th>\n",
       "      <th>duration_ms</th>\n",
       "      <th>time_signature</th>\n",
       "    </tr>\n",
       "  </thead>\n",
       "  <tbody>\n",
       "    <tr>\n",
       "      <th>1</th>\n",
       "      <td>0.595</td>\n",
       "      <td>0.389</td>\n",
       "      <td>2</td>\n",
       "      <td>-9.245</td>\n",
       "      <td>1</td>\n",
       "      <td>0.0349</td>\n",
       "      <td>0.4180</td>\n",
       "      <td>0.000001</td>\n",
       "      <td>0.1160</td>\n",
       "      <td>0.4000</td>\n",
       "      <td>166.052</td>\n",
       "      <td>audio_features</td>\n",
       "      <td>5kNe7PE09d6Kvw5pAsx23n</td>\n",
       "      <td>spotify:track:5kNe7PE09d6Kvw5pAsx23n</td>\n",
       "      <td>https://api.spotify.com/v1/tracks/5kNe7PE09d6K...</td>\n",
       "      <td>https://api.spotify.com/v1/audio-analysis/5kNe...</td>\n",
       "      <td>227427</td>\n",
       "      <td>4</td>\n",
       "    </tr>\n",
       "    <tr>\n",
       "      <th>2</th>\n",
       "      <td>0.555</td>\n",
       "      <td>0.890</td>\n",
       "      <td>6</td>\n",
       "      <td>-5.533</td>\n",
       "      <td>1</td>\n",
       "      <td>0.0309</td>\n",
       "      <td>0.0414</td>\n",
       "      <td>0.131000</td>\n",
       "      <td>0.1470</td>\n",
       "      <td>0.5130</td>\n",
       "      <td>96.987</td>\n",
       "      <td>audio_features</td>\n",
       "      <td>6rqxivjFHp8K0yMiefG56g</td>\n",
       "      <td>spotify:track:6rqxivjFHp8K0yMiefG56g</td>\n",
       "      <td>https://api.spotify.com/v1/tracks/6rqxivjFHp8K...</td>\n",
       "      <td>https://api.spotify.com/v1/audio-analysis/6rqx...</td>\n",
       "      <td>335267</td>\n",
       "      <td>4</td>\n",
       "    </tr>\n",
       "    <tr>\n",
       "      <th>3</th>\n",
       "      <td>0.592</td>\n",
       "      <td>0.917</td>\n",
       "      <td>2</td>\n",
       "      <td>-3.057</td>\n",
       "      <td>1</td>\n",
       "      <td>0.0541</td>\n",
       "      <td>0.0164</td>\n",
       "      <td>0.000001</td>\n",
       "      <td>0.1440</td>\n",
       "      <td>0.5720</td>\n",
       "      <td>112.030</td>\n",
       "      <td>audio_features</td>\n",
       "      <td>1kneRrMfS08JwuqKwnX4fl</td>\n",
       "      <td>spotify:track:1kneRrMfS08JwuqKwnX4fl</td>\n",
       "      <td>https://api.spotify.com/v1/tracks/1kneRrMfS08J...</td>\n",
       "      <td>https://api.spotify.com/v1/audio-analysis/1kne...</td>\n",
       "      <td>208867</td>\n",
       "      <td>4</td>\n",
       "    </tr>\n",
       "    <tr>\n",
       "      <th>4</th>\n",
       "      <td>0.514</td>\n",
       "      <td>0.951</td>\n",
       "      <td>9</td>\n",
       "      <td>-3.813</td>\n",
       "      <td>1</td>\n",
       "      <td>0.0603</td>\n",
       "      <td>0.0951</td>\n",
       "      <td>0.000000</td>\n",
       "      <td>0.3490</td>\n",
       "      <td>0.8380</td>\n",
       "      <td>171.960</td>\n",
       "      <td>audio_features</td>\n",
       "      <td>3wx2kQWPn9p5UppQbNhPAk</td>\n",
       "      <td>spotify:track:3wx2kQWPn9p5UppQbNhPAk</td>\n",
       "      <td>https://api.spotify.com/v1/tracks/3wx2kQWPn9p5...</td>\n",
       "      <td>https://api.spotify.com/v1/audio-analysis/3wx2...</td>\n",
       "      <td>192160</td>\n",
       "      <td>4</td>\n",
       "    </tr>\n",
       "    <tr>\n",
       "      <th>5</th>\n",
       "      <td>0.634</td>\n",
       "      <td>0.862</td>\n",
       "      <td>2</td>\n",
       "      <td>-5.337</td>\n",
       "      <td>1</td>\n",
       "      <td>0.0376</td>\n",
       "      <td>0.0287</td>\n",
       "      <td>0.000000</td>\n",
       "      <td>0.0217</td>\n",
       "      <td>0.7670</td>\n",
       "      <td>95.989</td>\n",
       "      <td>audio_features</td>\n",
       "      <td>1zWZvrk13cL8Sl3VLeG57F</td>\n",
       "      <td>spotify:track:1zWZvrk13cL8Sl3VLeG57F</td>\n",
       "      <td>https://api.spotify.com/v1/tracks/1zWZvrk13cL8...</td>\n",
       "      <td>https://api.spotify.com/v1/audio-analysis/1zWZ...</td>\n",
       "      <td>227693</td>\n",
       "      <td>4</td>\n",
       "    </tr>\n",
       "    <tr>\n",
       "      <th>...</th>\n",
       "      <td>...</td>\n",
       "      <td>...</td>\n",
       "      <td>...</td>\n",
       "      <td>...</td>\n",
       "      <td>...</td>\n",
       "      <td>...</td>\n",
       "      <td>...</td>\n",
       "      <td>...</td>\n",
       "      <td>...</td>\n",
       "      <td>...</td>\n",
       "      <td>...</td>\n",
       "      <td>...</td>\n",
       "      <td>...</td>\n",
       "      <td>...</td>\n",
       "      <td>...</td>\n",
       "      <td>...</td>\n",
       "      <td>...</td>\n",
       "      <td>...</td>\n",
       "    </tr>\n",
       "    <tr>\n",
       "      <th>13262</th>\n",
       "      <td>0.646</td>\n",
       "      <td>0.289</td>\n",
       "      <td>11</td>\n",
       "      <td>-15.797</td>\n",
       "      <td>1</td>\n",
       "      <td>0.0276</td>\n",
       "      <td>0.7150</td>\n",
       "      <td>0.007990</td>\n",
       "      <td>0.1260</td>\n",
       "      <td>0.3200</td>\n",
       "      <td>97.034</td>\n",
       "      <td>audio_features</td>\n",
       "      <td>14DFvObv2dHAHnrYzagMUR</td>\n",
       "      <td>spotify:track:14DFvObv2dHAHnrYzagMUR</td>\n",
       "      <td>https://api.spotify.com/v1/tracks/14DFvObv2dHA...</td>\n",
       "      <td>https://api.spotify.com/v1/audio-analysis/14DF...</td>\n",
       "      <td>271330</td>\n",
       "      <td>4</td>\n",
       "    </tr>\n",
       "    <tr>\n",
       "      <th>13263</th>\n",
       "      <td>0.264</td>\n",
       "      <td>0.276</td>\n",
       "      <td>0</td>\n",
       "      <td>-13.098</td>\n",
       "      <td>1</td>\n",
       "      <td>0.0309</td>\n",
       "      <td>0.6300</td>\n",
       "      <td>0.000044</td>\n",
       "      <td>0.0860</td>\n",
       "      <td>0.2170</td>\n",
       "      <td>179.458</td>\n",
       "      <td>audio_features</td>\n",
       "      <td>2ht5pkjS9mcShiPGcOmfM3</td>\n",
       "      <td>spotify:track:2ht5pkjS9mcShiPGcOmfM3</td>\n",
       "      <td>https://api.spotify.com/v1/tracks/2ht5pkjS9mcS...</td>\n",
       "      <td>https://api.spotify.com/v1/audio-analysis/2ht5...</td>\n",
       "      <td>266429</td>\n",
       "      <td>4</td>\n",
       "    </tr>\n",
       "    <tr>\n",
       "      <th>13264</th>\n",
       "      <td>0.688</td>\n",
       "      <td>0.127</td>\n",
       "      <td>10</td>\n",
       "      <td>-25.390</td>\n",
       "      <td>1</td>\n",
       "      <td>0.0336</td>\n",
       "      <td>0.9220</td>\n",
       "      <td>0.009420</td>\n",
       "      <td>0.1090</td>\n",
       "      <td>0.5610</td>\n",
       "      <td>107.993</td>\n",
       "      <td>audio_features</td>\n",
       "      <td>3mtu7CfHAHl1lArE0DzMPX</td>\n",
       "      <td>spotify:track:3mtu7CfHAHl1lArE0DzMPX</td>\n",
       "      <td>https://api.spotify.com/v1/tracks/3mtu7CfHAHl1...</td>\n",
       "      <td>https://api.spotify.com/v1/audio-analysis/3mtu...</td>\n",
       "      <td>206667</td>\n",
       "      <td>4</td>\n",
       "    </tr>\n",
       "    <tr>\n",
       "      <th>13265</th>\n",
       "      <td>0.652</td>\n",
       "      <td>0.573</td>\n",
       "      <td>6</td>\n",
       "      <td>-8.120</td>\n",
       "      <td>1</td>\n",
       "      <td>0.0379</td>\n",
       "      <td>0.2180</td>\n",
       "      <td>0.000095</td>\n",
       "      <td>0.1420</td>\n",
       "      <td>0.0804</td>\n",
       "      <td>126.003</td>\n",
       "      <td>audio_features</td>\n",
       "      <td>47aKE9cfKLyecAsxL2OaEC</td>\n",
       "      <td>spotify:track:47aKE9cfKLyecAsxL2OaEC</td>\n",
       "      <td>https://api.spotify.com/v1/tracks/47aKE9cfKLye...</td>\n",
       "      <td>https://api.spotify.com/v1/audio-analysis/47aK...</td>\n",
       "      <td>238549</td>\n",
       "      <td>4</td>\n",
       "    </tr>\n",
       "    <tr>\n",
       "      <th>13266</th>\n",
       "      <td>0.420</td>\n",
       "      <td>0.396</td>\n",
       "      <td>0</td>\n",
       "      <td>-10.294</td>\n",
       "      <td>1</td>\n",
       "      <td>0.0310</td>\n",
       "      <td>0.8670</td>\n",
       "      <td>0.128000</td>\n",
       "      <td>0.1910</td>\n",
       "      <td>0.1950</td>\n",
       "      <td>89.696</td>\n",
       "      <td>audio_features</td>\n",
       "      <td>748HpupwUf42wzwouGqHOR</td>\n",
       "      <td>spotify:track:748HpupwUf42wzwouGqHOR</td>\n",
       "      <td>https://api.spotify.com/v1/tracks/748HpupwUf42...</td>\n",
       "      <td>https://api.spotify.com/v1/audio-analysis/748H...</td>\n",
       "      <td>160194</td>\n",
       "      <td>4</td>\n",
       "    </tr>\n",
       "  </tbody>\n",
       "</table>\n",
       "<p>12708 rows × 18 columns</p>\n",
       "</div>"
      ],
      "text/plain": [
       "       danceability  energy  key  loudness  mode  speechiness  acousticness  \\\n",
       "1             0.595   0.389    2    -9.245     1       0.0349        0.4180   \n",
       "2             0.555   0.890    6    -5.533     1       0.0309        0.0414   \n",
       "3             0.592   0.917    2    -3.057     1       0.0541        0.0164   \n",
       "4             0.514   0.951    9    -3.813     1       0.0603        0.0951   \n",
       "5             0.634   0.862    2    -5.337     1       0.0376        0.0287   \n",
       "...             ...     ...  ...       ...   ...          ...           ...   \n",
       "13262         0.646   0.289   11   -15.797     1       0.0276        0.7150   \n",
       "13263         0.264   0.276    0   -13.098     1       0.0309        0.6300   \n",
       "13264         0.688   0.127   10   -25.390     1       0.0336        0.9220   \n",
       "13265         0.652   0.573    6    -8.120     1       0.0379        0.2180   \n",
       "13266         0.420   0.396    0   -10.294     1       0.0310        0.8670   \n",
       "\n",
       "       instrumentalness  liveness  valence    tempo            type  \\\n",
       "1              0.000001    0.1160   0.4000  166.052  audio_features   \n",
       "2              0.131000    0.1470   0.5130   96.987  audio_features   \n",
       "3              0.000001    0.1440   0.5720  112.030  audio_features   \n",
       "4              0.000000    0.3490   0.8380  171.960  audio_features   \n",
       "5              0.000000    0.0217   0.7670   95.989  audio_features   \n",
       "...                 ...       ...      ...      ...             ...   \n",
       "13262          0.007990    0.1260   0.3200   97.034  audio_features   \n",
       "13263          0.000044    0.0860   0.2170  179.458  audio_features   \n",
       "13264          0.009420    0.1090   0.5610  107.993  audio_features   \n",
       "13265          0.000095    0.1420   0.0804  126.003  audio_features   \n",
       "13266          0.128000    0.1910   0.1950   89.696  audio_features   \n",
       "\n",
       "                     track_id                                   uri  \\\n",
       "1      5kNe7PE09d6Kvw5pAsx23n  spotify:track:5kNe7PE09d6Kvw5pAsx23n   \n",
       "2      6rqxivjFHp8K0yMiefG56g  spotify:track:6rqxivjFHp8K0yMiefG56g   \n",
       "3      1kneRrMfS08JwuqKwnX4fl  spotify:track:1kneRrMfS08JwuqKwnX4fl   \n",
       "4      3wx2kQWPn9p5UppQbNhPAk  spotify:track:3wx2kQWPn9p5UppQbNhPAk   \n",
       "5      1zWZvrk13cL8Sl3VLeG57F  spotify:track:1zWZvrk13cL8Sl3VLeG57F   \n",
       "...                       ...                                   ...   \n",
       "13262  14DFvObv2dHAHnrYzagMUR  spotify:track:14DFvObv2dHAHnrYzagMUR   \n",
       "13263  2ht5pkjS9mcShiPGcOmfM3  spotify:track:2ht5pkjS9mcShiPGcOmfM3   \n",
       "13264  3mtu7CfHAHl1lArE0DzMPX  spotify:track:3mtu7CfHAHl1lArE0DzMPX   \n",
       "13265  47aKE9cfKLyecAsxL2OaEC  spotify:track:47aKE9cfKLyecAsxL2OaEC   \n",
       "13266  748HpupwUf42wzwouGqHOR  spotify:track:748HpupwUf42wzwouGqHOR   \n",
       "\n",
       "                                              track_href  \\\n",
       "1      https://api.spotify.com/v1/tracks/5kNe7PE09d6K...   \n",
       "2      https://api.spotify.com/v1/tracks/6rqxivjFHp8K...   \n",
       "3      https://api.spotify.com/v1/tracks/1kneRrMfS08J...   \n",
       "4      https://api.spotify.com/v1/tracks/3wx2kQWPn9p5...   \n",
       "5      https://api.spotify.com/v1/tracks/1zWZvrk13cL8...   \n",
       "...                                                  ...   \n",
       "13262  https://api.spotify.com/v1/tracks/14DFvObv2dHA...   \n",
       "13263  https://api.spotify.com/v1/tracks/2ht5pkjS9mcS...   \n",
       "13264  https://api.spotify.com/v1/tracks/3mtu7CfHAHl1...   \n",
       "13265  https://api.spotify.com/v1/tracks/47aKE9cfKLye...   \n",
       "13266  https://api.spotify.com/v1/tracks/748HpupwUf42...   \n",
       "\n",
       "                                            analysis_url  duration_ms  \\\n",
       "1      https://api.spotify.com/v1/audio-analysis/5kNe...       227427   \n",
       "2      https://api.spotify.com/v1/audio-analysis/6rqx...       335267   \n",
       "3      https://api.spotify.com/v1/audio-analysis/1kne...       208867   \n",
       "4      https://api.spotify.com/v1/audio-analysis/3wx2...       192160   \n",
       "5      https://api.spotify.com/v1/audio-analysis/1zWZ...       227693   \n",
       "...                                                  ...          ...   \n",
       "13262  https://api.spotify.com/v1/audio-analysis/14DF...       271330   \n",
       "13263  https://api.spotify.com/v1/audio-analysis/2ht5...       266429   \n",
       "13264  https://api.spotify.com/v1/audio-analysis/3mtu...       206667   \n",
       "13265  https://api.spotify.com/v1/audio-analysis/47aK...       238549   \n",
       "13266  https://api.spotify.com/v1/audio-analysis/748H...       160194   \n",
       "\n",
       "       time_signature  \n",
       "1                   4  \n",
       "2                   4  \n",
       "3                   4  \n",
       "4                   4  \n",
       "5                   4  \n",
       "...               ...  \n",
       "13262               4  \n",
       "13263               4  \n",
       "13264               4  \n",
       "13265               4  \n",
       "13266               4  \n",
       "\n",
       "[12708 rows x 18 columns]"
      ]
     },
     "execution_count": 115,
     "metadata": {},
     "output_type": "execute_result"
    }
   ],
   "source": [
    "#Create a dataframe of the audio features: \n",
    "features = pd.DataFrame(flatten(audio_features2))\n",
    "features.index+=1   # let the index start with 1\n",
    "features.rename(columns={'id':'track_id'}, inplace=True) # rename the column id into track_id, so that I can merge this with \n",
    "# artists and titles on track_id later\n",
    "features = features.drop_duplicates()\n",
    "features"
   ]
  },
  {
   "cell_type": "code",
   "execution_count": 116,
   "metadata": {},
   "outputs": [],
   "source": [
    "#Save the audio_features in a csv file.\n",
    "features.to_csv('audio_features.csv', index=False)"
   ]
  },
  {
   "cell_type": "code",
   "execution_count": 100,
   "metadata": {},
   "outputs": [],
   "source": [
    "#Concatente audio features with the titles and artists:\n",
    "song_and_features = songlist.merge(features, on='track_id', how='right')"
   ]
  },
  {
   "cell_type": "code",
   "execution_count": 111,
   "metadata": {},
   "outputs": [],
   "source": [
    "song_and_features = song_and_features.drop_duplicates().reset_index(drop=True)"
   ]
  },
  {
   "cell_type": "code",
   "execution_count": 109,
   "metadata": {},
   "outputs": [
    {
     "data": {
      "text/html": [
       "<div>\n",
       "<style scoped>\n",
       "    .dataframe tbody tr th:only-of-type {\n",
       "        vertical-align: middle;\n",
       "    }\n",
       "\n",
       "    .dataframe tbody tr th {\n",
       "        vertical-align: top;\n",
       "    }\n",
       "\n",
       "    .dataframe thead th {\n",
       "        text-align: right;\n",
       "    }\n",
       "</style>\n",
       "<table border=\"1\" class=\"dataframe\">\n",
       "  <thead>\n",
       "    <tr style=\"text-align: right;\">\n",
       "      <th></th>\n",
       "      <th>danceability</th>\n",
       "      <th>energy</th>\n",
       "      <th>key</th>\n",
       "      <th>loudness</th>\n",
       "      <th>mode</th>\n",
       "      <th>speechiness</th>\n",
       "      <th>acousticness</th>\n",
       "      <th>instrumentalness</th>\n",
       "      <th>liveness</th>\n",
       "      <th>valence</th>\n",
       "      <th>tempo</th>\n",
       "      <th>type</th>\n",
       "      <th>track_id</th>\n",
       "      <th>uri</th>\n",
       "      <th>track_href</th>\n",
       "      <th>analysis_url</th>\n",
       "      <th>duration_ms</th>\n",
       "      <th>time_signature</th>\n",
       "    </tr>\n",
       "  </thead>\n",
       "  <tbody>\n",
       "    <tr>\n",
       "      <th>1</th>\n",
       "      <td>0.595</td>\n",
       "      <td>0.389</td>\n",
       "      <td>2</td>\n",
       "      <td>-9.245</td>\n",
       "      <td>1</td>\n",
       "      <td>0.0349</td>\n",
       "      <td>0.418</td>\n",
       "      <td>0.000001</td>\n",
       "      <td>0.116</td>\n",
       "      <td>0.4</td>\n",
       "      <td>166.052</td>\n",
       "      <td>audio_features</td>\n",
       "      <td>5kNe7PE09d6Kvw5pAsx23n</td>\n",
       "      <td>spotify:track:5kNe7PE09d6Kvw5pAsx23n</td>\n",
       "      <td>https://api.spotify.com/v1/tracks/5kNe7PE09d6K...</td>\n",
       "      <td>https://api.spotify.com/v1/audio-analysis/5kNe...</td>\n",
       "      <td>227427</td>\n",
       "      <td>4</td>\n",
       "    </tr>\n",
       "    <tr>\n",
       "      <th>6522</th>\n",
       "      <td>0.595</td>\n",
       "      <td>0.389</td>\n",
       "      <td>2</td>\n",
       "      <td>-9.245</td>\n",
       "      <td>1</td>\n",
       "      <td>0.0349</td>\n",
       "      <td>0.418</td>\n",
       "      <td>0.000001</td>\n",
       "      <td>0.116</td>\n",
       "      <td>0.4</td>\n",
       "      <td>166.052</td>\n",
       "      <td>audio_features</td>\n",
       "      <td>5kNe7PE09d6Kvw5pAsx23n</td>\n",
       "      <td>spotify:track:5kNe7PE09d6Kvw5pAsx23n</td>\n",
       "      <td>https://api.spotify.com/v1/tracks/5kNe7PE09d6K...</td>\n",
       "      <td>https://api.spotify.com/v1/audio-analysis/5kNe...</td>\n",
       "      <td>227427</td>\n",
       "      <td>4</td>\n",
       "    </tr>\n",
       "  </tbody>\n",
       "</table>\n",
       "</div>"
      ],
      "text/plain": [
       "      danceability  energy  key  loudness  mode  speechiness  acousticness  \\\n",
       "1            0.595   0.389    2    -9.245     1       0.0349         0.418   \n",
       "6522         0.595   0.389    2    -9.245     1       0.0349         0.418   \n",
       "\n",
       "      instrumentalness  liveness  valence    tempo            type  \\\n",
       "1             0.000001     0.116      0.4  166.052  audio_features   \n",
       "6522          0.000001     0.116      0.4  166.052  audio_features   \n",
       "\n",
       "                    track_id                                   uri  \\\n",
       "1     5kNe7PE09d6Kvw5pAsx23n  spotify:track:5kNe7PE09d6Kvw5pAsx23n   \n",
       "6522  5kNe7PE09d6Kvw5pAsx23n  spotify:track:5kNe7PE09d6Kvw5pAsx23n   \n",
       "\n",
       "                                             track_href  \\\n",
       "1     https://api.spotify.com/v1/tracks/5kNe7PE09d6K...   \n",
       "6522  https://api.spotify.com/v1/tracks/5kNe7PE09d6K...   \n",
       "\n",
       "                                           analysis_url  duration_ms  \\\n",
       "1     https://api.spotify.com/v1/audio-analysis/5kNe...       227427   \n",
       "6522  https://api.spotify.com/v1/audio-analysis/5kNe...       227427   \n",
       "\n",
       "      time_signature  \n",
       "1                  4  \n",
       "6522               4  "
      ]
     },
     "execution_count": 109,
     "metadata": {},
     "output_type": "execute_result"
    }
   ],
   "source": [
    "features[features['track_id']=='5kNe7PE09d6Kvw5pAsx23n']"
   ]
  },
  {
   "cell_type": "code",
   "execution_count": 112,
   "metadata": {},
   "outputs": [
    {
     "data": {
      "text/html": [
       "<div>\n",
       "<style scoped>\n",
       "    .dataframe tbody tr th:only-of-type {\n",
       "        vertical-align: middle;\n",
       "    }\n",
       "\n",
       "    .dataframe tbody tr th {\n",
       "        vertical-align: top;\n",
       "    }\n",
       "\n",
       "    .dataframe thead th {\n",
       "        text-align: right;\n",
       "    }\n",
       "</style>\n",
       "<table border=\"1\" class=\"dataframe\">\n",
       "  <thead>\n",
       "    <tr style=\"text-align: right;\">\n",
       "      <th></th>\n",
       "      <th>title</th>\n",
       "      <th>track_id</th>\n",
       "      <th>artist</th>\n",
       "      <th>danceability</th>\n",
       "      <th>energy</th>\n",
       "      <th>key</th>\n",
       "      <th>loudness</th>\n",
       "      <th>mode</th>\n",
       "      <th>speechiness</th>\n",
       "      <th>acousticness</th>\n",
       "      <th>instrumentalness</th>\n",
       "      <th>liveness</th>\n",
       "      <th>valence</th>\n",
       "      <th>tempo</th>\n",
       "      <th>type</th>\n",
       "      <th>uri</th>\n",
       "      <th>track_href</th>\n",
       "      <th>analysis_url</th>\n",
       "      <th>duration_ms</th>\n",
       "      <th>time_signature</th>\n",
       "    </tr>\n",
       "  </thead>\n",
       "  <tbody>\n",
       "    <tr>\n",
       "      <th>0</th>\n",
       "      <td>Die A Happy Man</td>\n",
       "      <td>5kNe7PE09d6Kvw5pAsx23n</td>\n",
       "      <td>Thomas Rhett</td>\n",
       "      <td>0.595</td>\n",
       "      <td>0.389</td>\n",
       "      <td>2</td>\n",
       "      <td>-9.245</td>\n",
       "      <td>1</td>\n",
       "      <td>0.0349</td>\n",
       "      <td>0.4180</td>\n",
       "      <td>0.000001</td>\n",
       "      <td>0.1160</td>\n",
       "      <td>0.4000</td>\n",
       "      <td>166.052</td>\n",
       "      <td>audio_features</td>\n",
       "      <td>spotify:track:5kNe7PE09d6Kvw5pAsx23n</td>\n",
       "      <td>https://api.spotify.com/v1/tracks/5kNe7PE09d6K...</td>\n",
       "      <td>https://api.spotify.com/v1/audio-analysis/5kNe...</td>\n",
       "      <td>227427</td>\n",
       "      <td>4</td>\n",
       "    </tr>\n",
       "    <tr>\n",
       "      <th>1</th>\n",
       "      <td>Stay A Little Longer</td>\n",
       "      <td>6rqxivjFHp8K0yMiefG56g</td>\n",
       "      <td>Brothers Osborne</td>\n",
       "      <td>0.555</td>\n",
       "      <td>0.890</td>\n",
       "      <td>6</td>\n",
       "      <td>-5.533</td>\n",
       "      <td>1</td>\n",
       "      <td>0.0309</td>\n",
       "      <td>0.0414</td>\n",
       "      <td>0.131000</td>\n",
       "      <td>0.1470</td>\n",
       "      <td>0.5130</td>\n",
       "      <td>96.987</td>\n",
       "      <td>audio_features</td>\n",
       "      <td>spotify:track:6rqxivjFHp8K0yMiefG56g</td>\n",
       "      <td>https://api.spotify.com/v1/tracks/6rqxivjFHp8K...</td>\n",
       "      <td>https://api.spotify.com/v1/audio-analysis/6rqx...</td>\n",
       "      <td>335267</td>\n",
       "      <td>4</td>\n",
       "    </tr>\n",
       "    <tr>\n",
       "      <th>2</th>\n",
       "      <td>I Love This Life</td>\n",
       "      <td>1kneRrMfS08JwuqKwnX4fl</td>\n",
       "      <td>LOCASH</td>\n",
       "      <td>0.592</td>\n",
       "      <td>0.917</td>\n",
       "      <td>2</td>\n",
       "      <td>-3.057</td>\n",
       "      <td>1</td>\n",
       "      <td>0.0541</td>\n",
       "      <td>0.0164</td>\n",
       "      <td>0.000001</td>\n",
       "      <td>0.1440</td>\n",
       "      <td>0.5720</td>\n",
       "      <td>112.030</td>\n",
       "      <td>audio_features</td>\n",
       "      <td>spotify:track:1kneRrMfS08JwuqKwnX4fl</td>\n",
       "      <td>https://api.spotify.com/v1/tracks/1kneRrMfS08J...</td>\n",
       "      <td>https://api.spotify.com/v1/audio-analysis/1kne...</td>\n",
       "      <td>208867</td>\n",
       "      <td>4</td>\n",
       "    </tr>\n",
       "    <tr>\n",
       "      <th>3</th>\n",
       "      <td>Leave The Night On</td>\n",
       "      <td>3wx2kQWPn9p5UppQbNhPAk</td>\n",
       "      <td>Sam Hunt</td>\n",
       "      <td>0.514</td>\n",
       "      <td>0.951</td>\n",
       "      <td>9</td>\n",
       "      <td>-3.813</td>\n",
       "      <td>1</td>\n",
       "      <td>0.0603</td>\n",
       "      <td>0.0951</td>\n",
       "      <td>0.000000</td>\n",
       "      <td>0.3490</td>\n",
       "      <td>0.8380</td>\n",
       "      <td>171.960</td>\n",
       "      <td>audio_features</td>\n",
       "      <td>spotify:track:3wx2kQWPn9p5UppQbNhPAk</td>\n",
       "      <td>https://api.spotify.com/v1/tracks/3wx2kQWPn9p5...</td>\n",
       "      <td>https://api.spotify.com/v1/audio-analysis/3wx2...</td>\n",
       "      <td>192160</td>\n",
       "      <td>4</td>\n",
       "    </tr>\n",
       "    <tr>\n",
       "      <th>4</th>\n",
       "      <td>T-Shirt</td>\n",
       "      <td>1zWZvrk13cL8Sl3VLeG57F</td>\n",
       "      <td>Thomas Rhett</td>\n",
       "      <td>0.634</td>\n",
       "      <td>0.862</td>\n",
       "      <td>2</td>\n",
       "      <td>-5.337</td>\n",
       "      <td>1</td>\n",
       "      <td>0.0376</td>\n",
       "      <td>0.0287</td>\n",
       "      <td>0.000000</td>\n",
       "      <td>0.0217</td>\n",
       "      <td>0.7670</td>\n",
       "      <td>95.989</td>\n",
       "      <td>audio_features</td>\n",
       "      <td>spotify:track:1zWZvrk13cL8Sl3VLeG57F</td>\n",
       "      <td>https://api.spotify.com/v1/tracks/1zWZvrk13cL8...</td>\n",
       "      <td>https://api.spotify.com/v1/audio-analysis/1zWZ...</td>\n",
       "      <td>227693</td>\n",
       "      <td>4</td>\n",
       "    </tr>\n",
       "    <tr>\n",
       "      <th>...</th>\n",
       "      <td>...</td>\n",
       "      <td>...</td>\n",
       "      <td>...</td>\n",
       "      <td>...</td>\n",
       "      <td>...</td>\n",
       "      <td>...</td>\n",
       "      <td>...</td>\n",
       "      <td>...</td>\n",
       "      <td>...</td>\n",
       "      <td>...</td>\n",
       "      <td>...</td>\n",
       "      <td>...</td>\n",
       "      <td>...</td>\n",
       "      <td>...</td>\n",
       "      <td>...</td>\n",
       "      <td>...</td>\n",
       "      <td>...</td>\n",
       "      <td>...</td>\n",
       "      <td>...</td>\n",
       "      <td>...</td>\n",
       "    </tr>\n",
       "    <tr>\n",
       "      <th>12703</th>\n",
       "      <td>Journey Home</td>\n",
       "      <td>14DFvObv2dHAHnrYzagMUR</td>\n",
       "      <td>Freight Train Foxes</td>\n",
       "      <td>0.646</td>\n",
       "      <td>0.289</td>\n",
       "      <td>11</td>\n",
       "      <td>-15.797</td>\n",
       "      <td>1</td>\n",
       "      <td>0.0276</td>\n",
       "      <td>0.7150</td>\n",
       "      <td>0.007990</td>\n",
       "      <td>0.1260</td>\n",
       "      <td>0.3200</td>\n",
       "      <td>97.034</td>\n",
       "      <td>audio_features</td>\n",
       "      <td>spotify:track:14DFvObv2dHAHnrYzagMUR</td>\n",
       "      <td>https://api.spotify.com/v1/tracks/14DFvObv2dHA...</td>\n",
       "      <td>https://api.spotify.com/v1/audio-analysis/14DF...</td>\n",
       "      <td>271330</td>\n",
       "      <td>4</td>\n",
       "    </tr>\n",
       "    <tr>\n",
       "      <th>12704</th>\n",
       "      <td>Cold Water Swimming</td>\n",
       "      <td>2ht5pkjS9mcShiPGcOmfM3</td>\n",
       "      <td>Quiet Houses</td>\n",
       "      <td>0.264</td>\n",
       "      <td>0.276</td>\n",
       "      <td>0</td>\n",
       "      <td>-13.098</td>\n",
       "      <td>1</td>\n",
       "      <td>0.0309</td>\n",
       "      <td>0.6300</td>\n",
       "      <td>0.000044</td>\n",
       "      <td>0.0860</td>\n",
       "      <td>0.2170</td>\n",
       "      <td>179.458</td>\n",
       "      <td>audio_features</td>\n",
       "      <td>spotify:track:2ht5pkjS9mcShiPGcOmfM3</td>\n",
       "      <td>https://api.spotify.com/v1/tracks/2ht5pkjS9mcS...</td>\n",
       "      <td>https://api.spotify.com/v1/audio-analysis/2ht5...</td>\n",
       "      <td>266429</td>\n",
       "      <td>4</td>\n",
       "    </tr>\n",
       "    <tr>\n",
       "      <th>12705</th>\n",
       "      <td>June</td>\n",
       "      <td>3mtu7CfHAHl1lArE0DzMPX</td>\n",
       "      <td>Pacing</td>\n",
       "      <td>0.688</td>\n",
       "      <td>0.127</td>\n",
       "      <td>10</td>\n",
       "      <td>-25.390</td>\n",
       "      <td>1</td>\n",
       "      <td>0.0336</td>\n",
       "      <td>0.9220</td>\n",
       "      <td>0.009420</td>\n",
       "      <td>0.1090</td>\n",
       "      <td>0.5610</td>\n",
       "      <td>107.993</td>\n",
       "      <td>audio_features</td>\n",
       "      <td>spotify:track:3mtu7CfHAHl1lArE0DzMPX</td>\n",
       "      <td>https://api.spotify.com/v1/tracks/3mtu7CfHAHl1...</td>\n",
       "      <td>https://api.spotify.com/v1/audio-analysis/3mtu...</td>\n",
       "      <td>206667</td>\n",
       "      <td>4</td>\n",
       "    </tr>\n",
       "    <tr>\n",
       "      <th>12706</th>\n",
       "      <td>Permafrost</td>\n",
       "      <td>47aKE9cfKLyecAsxL2OaEC</td>\n",
       "      <td>J.B. Boone</td>\n",
       "      <td>0.652</td>\n",
       "      <td>0.573</td>\n",
       "      <td>6</td>\n",
       "      <td>-8.120</td>\n",
       "      <td>1</td>\n",
       "      <td>0.0379</td>\n",
       "      <td>0.2180</td>\n",
       "      <td>0.000095</td>\n",
       "      <td>0.1420</td>\n",
       "      <td>0.0804</td>\n",
       "      <td>126.003</td>\n",
       "      <td>audio_features</td>\n",
       "      <td>spotify:track:47aKE9cfKLyecAsxL2OaEC</td>\n",
       "      <td>https://api.spotify.com/v1/tracks/47aKE9cfKLye...</td>\n",
       "      <td>https://api.spotify.com/v1/audio-analysis/47aK...</td>\n",
       "      <td>238549</td>\n",
       "      <td>4</td>\n",
       "    </tr>\n",
       "    <tr>\n",
       "      <th>12707</th>\n",
       "      <td>Walk You Home (In the Mornin' Mist)</td>\n",
       "      <td>748HpupwUf42wzwouGqHOR</td>\n",
       "      <td>Elliott Ok</td>\n",
       "      <td>0.420</td>\n",
       "      <td>0.396</td>\n",
       "      <td>0</td>\n",
       "      <td>-10.294</td>\n",
       "      <td>1</td>\n",
       "      <td>0.0310</td>\n",
       "      <td>0.8670</td>\n",
       "      <td>0.128000</td>\n",
       "      <td>0.1910</td>\n",
       "      <td>0.1950</td>\n",
       "      <td>89.696</td>\n",
       "      <td>audio_features</td>\n",
       "      <td>spotify:track:748HpupwUf42wzwouGqHOR</td>\n",
       "      <td>https://api.spotify.com/v1/tracks/748HpupwUf42...</td>\n",
       "      <td>https://api.spotify.com/v1/audio-analysis/748H...</td>\n",
       "      <td>160194</td>\n",
       "      <td>4</td>\n",
       "    </tr>\n",
       "  </tbody>\n",
       "</table>\n",
       "<p>12708 rows × 20 columns</p>\n",
       "</div>"
      ],
      "text/plain": [
       "                                     title                track_id  \\\n",
       "0                          Die A Happy Man  5kNe7PE09d6Kvw5pAsx23n   \n",
       "1                     Stay A Little Longer  6rqxivjFHp8K0yMiefG56g   \n",
       "2                         I Love This Life  1kneRrMfS08JwuqKwnX4fl   \n",
       "3                       Leave The Night On  3wx2kQWPn9p5UppQbNhPAk   \n",
       "4                                  T-Shirt  1zWZvrk13cL8Sl3VLeG57F   \n",
       "...                                    ...                     ...   \n",
       "12703                         Journey Home  14DFvObv2dHAHnrYzagMUR   \n",
       "12704                  Cold Water Swimming  2ht5pkjS9mcShiPGcOmfM3   \n",
       "12705                                 June  3mtu7CfHAHl1lArE0DzMPX   \n",
       "12706                           Permafrost  47aKE9cfKLyecAsxL2OaEC   \n",
       "12707  Walk You Home (In the Mornin' Mist)  748HpupwUf42wzwouGqHOR   \n",
       "\n",
       "                    artist  danceability  energy  key  loudness  mode  \\\n",
       "0             Thomas Rhett         0.595   0.389    2    -9.245     1   \n",
       "1         Brothers Osborne         0.555   0.890    6    -5.533     1   \n",
       "2                   LOCASH         0.592   0.917    2    -3.057     1   \n",
       "3                 Sam Hunt         0.514   0.951    9    -3.813     1   \n",
       "4             Thomas Rhett         0.634   0.862    2    -5.337     1   \n",
       "...                    ...           ...     ...  ...       ...   ...   \n",
       "12703  Freight Train Foxes         0.646   0.289   11   -15.797     1   \n",
       "12704         Quiet Houses         0.264   0.276    0   -13.098     1   \n",
       "12705               Pacing         0.688   0.127   10   -25.390     1   \n",
       "12706           J.B. Boone         0.652   0.573    6    -8.120     1   \n",
       "12707           Elliott Ok         0.420   0.396    0   -10.294     1   \n",
       "\n",
       "       speechiness  acousticness  instrumentalness  liveness  valence  \\\n",
       "0           0.0349        0.4180          0.000001    0.1160   0.4000   \n",
       "1           0.0309        0.0414          0.131000    0.1470   0.5130   \n",
       "2           0.0541        0.0164          0.000001    0.1440   0.5720   \n",
       "3           0.0603        0.0951          0.000000    0.3490   0.8380   \n",
       "4           0.0376        0.0287          0.000000    0.0217   0.7670   \n",
       "...            ...           ...               ...       ...      ...   \n",
       "12703       0.0276        0.7150          0.007990    0.1260   0.3200   \n",
       "12704       0.0309        0.6300          0.000044    0.0860   0.2170   \n",
       "12705       0.0336        0.9220          0.009420    0.1090   0.5610   \n",
       "12706       0.0379        0.2180          0.000095    0.1420   0.0804   \n",
       "12707       0.0310        0.8670          0.128000    0.1910   0.1950   \n",
       "\n",
       "         tempo            type                                   uri  \\\n",
       "0      166.052  audio_features  spotify:track:5kNe7PE09d6Kvw5pAsx23n   \n",
       "1       96.987  audio_features  spotify:track:6rqxivjFHp8K0yMiefG56g   \n",
       "2      112.030  audio_features  spotify:track:1kneRrMfS08JwuqKwnX4fl   \n",
       "3      171.960  audio_features  spotify:track:3wx2kQWPn9p5UppQbNhPAk   \n",
       "4       95.989  audio_features  spotify:track:1zWZvrk13cL8Sl3VLeG57F   \n",
       "...        ...             ...                                   ...   \n",
       "12703   97.034  audio_features  spotify:track:14DFvObv2dHAHnrYzagMUR   \n",
       "12704  179.458  audio_features  spotify:track:2ht5pkjS9mcShiPGcOmfM3   \n",
       "12705  107.993  audio_features  spotify:track:3mtu7CfHAHl1lArE0DzMPX   \n",
       "12706  126.003  audio_features  spotify:track:47aKE9cfKLyecAsxL2OaEC   \n",
       "12707   89.696  audio_features  spotify:track:748HpupwUf42wzwouGqHOR   \n",
       "\n",
       "                                              track_href  \\\n",
       "0      https://api.spotify.com/v1/tracks/5kNe7PE09d6K...   \n",
       "1      https://api.spotify.com/v1/tracks/6rqxivjFHp8K...   \n",
       "2      https://api.spotify.com/v1/tracks/1kneRrMfS08J...   \n",
       "3      https://api.spotify.com/v1/tracks/3wx2kQWPn9p5...   \n",
       "4      https://api.spotify.com/v1/tracks/1zWZvrk13cL8...   \n",
       "...                                                  ...   \n",
       "12703  https://api.spotify.com/v1/tracks/14DFvObv2dHA...   \n",
       "12704  https://api.spotify.com/v1/tracks/2ht5pkjS9mcS...   \n",
       "12705  https://api.spotify.com/v1/tracks/3mtu7CfHAHl1...   \n",
       "12706  https://api.spotify.com/v1/tracks/47aKE9cfKLye...   \n",
       "12707  https://api.spotify.com/v1/tracks/748HpupwUf42...   \n",
       "\n",
       "                                            analysis_url  duration_ms  \\\n",
       "0      https://api.spotify.com/v1/audio-analysis/5kNe...       227427   \n",
       "1      https://api.spotify.com/v1/audio-analysis/6rqx...       335267   \n",
       "2      https://api.spotify.com/v1/audio-analysis/1kne...       208867   \n",
       "3      https://api.spotify.com/v1/audio-analysis/3wx2...       192160   \n",
       "4      https://api.spotify.com/v1/audio-analysis/1zWZ...       227693   \n",
       "...                                                  ...          ...   \n",
       "12703  https://api.spotify.com/v1/audio-analysis/14DF...       271330   \n",
       "12704  https://api.spotify.com/v1/audio-analysis/2ht5...       266429   \n",
       "12705  https://api.spotify.com/v1/audio-analysis/3mtu...       206667   \n",
       "12706  https://api.spotify.com/v1/audio-analysis/47aK...       238549   \n",
       "12707  https://api.spotify.com/v1/audio-analysis/748H...       160194   \n",
       "\n",
       "       time_signature  \n",
       "0                   4  \n",
       "1                   4  \n",
       "2                   4  \n",
       "3                   4  \n",
       "4                   4  \n",
       "...               ...  \n",
       "12703               4  \n",
       "12704               4  \n",
       "12705               4  \n",
       "12706               4  \n",
       "12707               4  \n",
       "\n",
       "[12708 rows x 20 columns]"
      ]
     },
     "execution_count": 112,
     "metadata": {},
     "output_type": "execute_result"
    }
   ],
   "source": [
    "song_and_features"
   ]
  },
  {
   "cell_type": "code",
   "execution_count": 113,
   "metadata": {},
   "outputs": [],
   "source": [
    "# Save as csv too_\n",
    "song_and_features.to_csv('song_and_features.csv', index=False)"
   ]
  },
  {
   "cell_type": "markdown",
   "metadata": {},
   "source": [
    "##  Cluster audio features"
   ]
  },
  {
   "cell_type": "code",
   "execution_count": 82,
   "metadata": {},
   "outputs": [],
   "source": [
    "#Import labraries:\n",
    "import numpy as np\n",
    "import matplotlib.pyplot as plt\n",
    "\n",
    "from sklearn import cluster, datasets\n",
    "from sklearn.cluster import KMeans\n",
    "from sklearn.preprocessing import StandardScaler\n",
    "from sklearn.metrics import silhouette_score\n",
    "from matplotlib.lines import Line2D\n",
    "\n",
    "import random"
   ]
  },
  {
   "cell_type": "code",
   "execution_count": 117,
   "metadata": {},
   "outputs": [],
   "source": [
    "# drop non-numerical features of the audio features:\n",
    "X = features.drop(['type', 'track_id', 'uri', 'track_href', 'analysis_url'], axis=1)"
   ]
  },
  {
   "cell_type": "code",
   "execution_count": 118,
   "metadata": {},
   "outputs": [
    {
     "data": {
      "text/html": [
       "<div>\n",
       "<style scoped>\n",
       "    .dataframe tbody tr th:only-of-type {\n",
       "        vertical-align: middle;\n",
       "    }\n",
       "\n",
       "    .dataframe tbody tr th {\n",
       "        vertical-align: top;\n",
       "    }\n",
       "\n",
       "    .dataframe thead th {\n",
       "        text-align: right;\n",
       "    }\n",
       "</style>\n",
       "<table border=\"1\" class=\"dataframe\">\n",
       "  <thead>\n",
       "    <tr style=\"text-align: right;\">\n",
       "      <th></th>\n",
       "      <th>danceability</th>\n",
       "      <th>energy</th>\n",
       "      <th>key</th>\n",
       "      <th>loudness</th>\n",
       "      <th>mode</th>\n",
       "      <th>speechiness</th>\n",
       "      <th>acousticness</th>\n",
       "      <th>instrumentalness</th>\n",
       "      <th>liveness</th>\n",
       "      <th>valence</th>\n",
       "      <th>tempo</th>\n",
       "      <th>duration_ms</th>\n",
       "      <th>time_signature</th>\n",
       "    </tr>\n",
       "  </thead>\n",
       "  <tbody>\n",
       "    <tr>\n",
       "      <th>0</th>\n",
       "      <td>0.242710</td>\n",
       "      <td>-1.388983</td>\n",
       "      <td>-0.917667</td>\n",
       "      <td>-0.593618</td>\n",
       "      <td>0.82291</td>\n",
       "      <td>-0.608461</td>\n",
       "      <td>0.867498</td>\n",
       "      <td>-0.402483</td>\n",
       "      <td>-0.556547</td>\n",
       "      <td>-0.106530</td>\n",
       "      <td>1.312551</td>\n",
       "      <td>0.109524</td>\n",
       "      <td>0.184462</td>\n",
       "    </tr>\n",
       "    <tr>\n",
       "      <th>1</th>\n",
       "      <td>0.011889</td>\n",
       "      <td>0.790761</td>\n",
       "      <td>0.203032</td>\n",
       "      <td>0.304568</td>\n",
       "      <td>0.82291</td>\n",
       "      <td>-0.649529</td>\n",
       "      <td>-0.573862</td>\n",
       "      <td>0.120758</td>\n",
       "      <td>-0.368244</td>\n",
       "      <td>0.352241</td>\n",
       "      <td>-1.015138</td>\n",
       "      <td>1.905563</td>\n",
       "      <td>0.184462</td>\n",
       "    </tr>\n",
       "    <tr>\n",
       "      <th>2</th>\n",
       "      <td>0.225399</td>\n",
       "      <td>0.908232</td>\n",
       "      <td>-0.917667</td>\n",
       "      <td>0.903681</td>\n",
       "      <td>0.82291</td>\n",
       "      <td>-0.411333</td>\n",
       "      <td>-0.669544</td>\n",
       "      <td>-0.402484</td>\n",
       "      <td>-0.386467</td>\n",
       "      <td>0.591776</td>\n",
       "      <td>-0.508146</td>\n",
       "      <td>-0.199587</td>\n",
       "      <td>0.184462</td>\n",
       "    </tr>\n",
       "    <tr>\n",
       "      <th>3</th>\n",
       "      <td>-0.224703</td>\n",
       "      <td>1.056159</td>\n",
       "      <td>1.043556</td>\n",
       "      <td>0.720753</td>\n",
       "      <td>0.82291</td>\n",
       "      <td>-0.347678</td>\n",
       "      <td>-0.368336</td>\n",
       "      <td>-0.402489</td>\n",
       "      <td>0.858759</td>\n",
       "      <td>1.671715</td>\n",
       "      <td>1.511668</td>\n",
       "      <td>-0.477836</td>\n",
       "      <td>0.184462</td>\n",
       "    </tr>\n",
       "    <tr>\n",
       "      <th>4</th>\n",
       "      <td>0.467761</td>\n",
       "      <td>0.668939</td>\n",
       "      <td>-0.917667</td>\n",
       "      <td>0.351994</td>\n",
       "      <td>0.82291</td>\n",
       "      <td>-0.580740</td>\n",
       "      <td>-0.622468</td>\n",
       "      <td>-0.402489</td>\n",
       "      <td>-1.129351</td>\n",
       "      <td>1.383461</td>\n",
       "      <td>-1.048774</td>\n",
       "      <td>0.113954</td>\n",
       "      <td>0.184462</td>\n",
       "    </tr>\n",
       "  </tbody>\n",
       "</table>\n",
       "</div>"
      ],
      "text/plain": [
       "   danceability    energy       key  loudness     mode  speechiness  \\\n",
       "0      0.242710 -1.388983 -0.917667 -0.593618  0.82291    -0.608461   \n",
       "1      0.011889  0.790761  0.203032  0.304568  0.82291    -0.649529   \n",
       "2      0.225399  0.908232 -0.917667  0.903681  0.82291    -0.411333   \n",
       "3     -0.224703  1.056159  1.043556  0.720753  0.82291    -0.347678   \n",
       "4      0.467761  0.668939 -0.917667  0.351994  0.82291    -0.580740   \n",
       "\n",
       "   acousticness  instrumentalness  liveness   valence     tempo  duration_ms  \\\n",
       "0      0.867498         -0.402483 -0.556547 -0.106530  1.312551     0.109524   \n",
       "1     -0.573862          0.120758 -0.368244  0.352241 -1.015138     1.905563   \n",
       "2     -0.669544         -0.402484 -0.386467  0.591776 -0.508146    -0.199587   \n",
       "3     -0.368336         -0.402489  0.858759  1.671715  1.511668    -0.477836   \n",
       "4     -0.622468         -0.402489 -1.129351  1.383461 -1.048774     0.113954   \n",
       "\n",
       "   time_signature  \n",
       "0        0.184462  \n",
       "1        0.184462  \n",
       "2        0.184462  \n",
       "3        0.184462  \n",
       "4        0.184462  "
      ]
     },
     "execution_count": 118,
     "metadata": {},
     "output_type": "execute_result"
    }
   ],
   "source": [
    "#scale all features, save the scaler as transformer to use it later\n",
    "transformer = StandardScaler().fit(X)\n",
    "X_stan = transformer.transform(X)\n",
    "\n",
    "pd.DataFrame(X_stan,columns=X.columns).head()"
   ]
  },
  {
   "cell_type": "markdown",
   "metadata": {},
   "source": [
    "### Find the best possible k for clustering"
   ]
  },
  {
   "cell_type": "code",
   "execution_count": 119,
   "metadata": {},
   "outputs": [
    {
     "data": {
      "text/plain": [
       "Text(0.5, 1.0, 'Elbow Method showing the optimal k')"
      ]
     },
     "execution_count": 119,
     "metadata": {},
     "output_type": "execute_result"
    },
    {
     "data": {
      "image/png": "[encoded data removed]",
      "text/plain": [
       "<Figure size 1152x576 with 1 Axes>"
      ]
     },
     "metadata": {
      "needs_background": "light"
     },
     "output_type": "display_data"
    }
   ],
   "source": [
    "#Elbow graph of inertia\n",
    "K = range(2, 20)\n",
    "inertia = []\n",
    "\n",
    "for k in K:\n",
    "    kmeans = KMeans(n_clusters=k)\n",
    "    kmeans.fit(X_stan)\n",
    "    inertia.append(kmeans.inertia_)\n",
    "\n",
    "\n",
    "plt.figure(figsize=(16,8))\n",
    "plt.plot(K, inertia, 'bx-')\n",
    "plt.xlabel('k')\n",
    "plt.ylabel('inertia')\n",
    "plt.xticks(np.arange(min(K), max(K)+1, 1.0))\n",
    "plt.title('Elbow Method showing the optimal k')"
   ]
  },
  {
   "cell_type": "code",
   "execution_count": 120,
   "metadata": {},
   "outputs": [
    {
     "data": {
      "text/plain": [
       "Text(0.5, 1.0, 'Silhouette score showing the optimal k')"
      ]
     },
     "execution_count": 120,
     "metadata": {},
     "output_type": "execute_result"
    },
    {
     "data": {
      "image/png": "[encoded data removed]",
      "text/plain": [
       "<Figure size 1152x576 with 1 Axes>"
      ]
     },
     "metadata": {
      "needs_background": "light"
     },
     "output_type": "display_data"
    }
   ],
   "source": [
    "#silhouette score\n",
    "\n",
    "K = range(2, 20)\n",
    "silhouette = []\n",
    "\n",
    "for k in K:\n",
    "    kmeans = KMeans(n_clusters=k)\n",
    "    kmeans.fit(X_stan)\n",
    "    silhouette.append(silhouette_score(X_stan, kmeans.predict(X_stan)))\n",
    "\n",
    "\n",
    "plt.figure(figsize=(16,8))\n",
    "plt.plot(K, silhouette, 'bx-')\n",
    "plt.xlabel('k')\n",
    "plt.ylabel('silhouette score')\n",
    "plt.xticks(np.arange(min(K), max(K)+1, 1.0))\n",
    "plt.title('Silhouette score showing the optimal k')"
   ]
  },
  {
   "cell_type": "code",
   "execution_count": 121,
   "metadata": {},
   "outputs": [],
   "source": [
    "#Cluster the songs:\n",
    "#I will go for 3 clusters, even if the silhouette score is favoring 2 clusters. But two seems to be too less. \n",
    "#In the elbow graph there is no sign of an elbow. It could be 3 though.\n",
    "kmeans = KMeans(n_clusters=6).fit(X_stan)"
   ]
  },
  {
   "cell_type": "code",
   "execution_count": 122,
   "metadata": {},
   "outputs": [
    {
     "data": {
      "text/plain": [
       "0    1229\n",
       "1    1568\n",
       "2    2929\n",
       "3     790\n",
       "4    2675\n",
       "5    3517\n",
       "dtype: int64"
      ]
     },
     "execution_count": 122,
     "metadata": {},
     "output_type": "execute_result"
    }
   ],
   "source": [
    "# Predicting / assigning the clusters:\n",
    "clusters = kmeans.predict(X_stan)\n",
    "\n",
    "# Check the size of the clusters\n",
    "pd.Series(clusters).value_counts().sort_index()"
   ]
  },
  {
   "cell_type": "code",
   "execution_count": 123,
   "metadata": {},
   "outputs": [],
   "source": [
    "#Append clusters to the song_and_features dataframe:\n",
    "song_and_features['cluster'] = clusters"
   ]
  },
  {
   "cell_type": "code",
   "execution_count": 124,
   "metadata": {},
   "outputs": [
    {
     "data": {
      "text/plain": [
       "101771.79631367023"
      ]
     },
     "execution_count": 124,
     "metadata": {},
     "output_type": "execute_result"
    }
   ],
   "source": [
    "kmeans.inertia_"
   ]
  },
  {
   "cell_type": "code",
   "execution_count": null,
   "metadata": {},
   "outputs": [],
   "source": []
  },
  {
   "cell_type": "markdown",
   "metadata": {},
   "source": [
    "## 2nd prototype"
   ]
  },
  {
   "cell_type": "code",
   "execution_count": 138,
   "metadata": {},
   "outputs": [],
   "source": [
    "#Initialize SpotiPy with user credentials\n",
    "sp = spotipy.Spotify(auth_manager=SpotifyClientCredentials(client_id=client_dict['cid'],\n",
    "                                                           client_secret=client_dict['cids']))"
   ]
  },
  {
   "cell_type": "code",
   "execution_count": 145,
   "metadata": {},
   "outputs": [
    {
     "name": "stdout",
     "output_type": "stream",
     "text": [
      "Enter your favourite song (without artist): Living other lives\n"
     ]
    }
   ],
   "source": [
    "song = input(\"Enter your favourite song (without artist): \")"
   ]
  },
  {
   "cell_type": "code",
   "execution_count": 146,
   "metadata": {},
   "outputs": [
    {
     "name": "stdout",
     "output_type": "stream",
     "text": [
      "You should try Samurai by Michael Cretu\n"
     ]
    }
   ],
   "source": [
    "#make the input lower case, so all the mess that can happen during the input is minimized\n",
    "song = song.lower()\n",
    "\n",
    "#create a list with booleans, then put this into the dataframe to get the line with the song and check on the length of this df.\n",
    "# If it is 0 we haven't found a title --> It is not in the Top Ten\n",
    "if len(top_100_lower[top_100_lower['title'].str.contains(song)]) >= 1:\n",
    "    n = random.randint(1,100)   # create a random number to make a suggestion\n",
    "    print('Yay, hot song! Here is another one for you: \\n \\n' + str(top_100.iloc[n, 0]) + ' - ' + str(top_100.iloc[n, 1]))\n",
    "    #print out the title and the artist (This time from top_100, because titles have the original format)\n",
    "else: \n",
    "    result = sp.search(q=song, limit=1) #Search for the song in spotify\n",
    "    new_song = sp.audio_features(result['tracks']['items'][0]['uri']) # Get the audio features of the song. (They come in a list of a dict)\n",
    "    new_song = pd.DataFrame(new_song)\n",
    "    new_song = new_song.drop(columns=['type','id','uri', 'track_href', 'analysis_url'] )\n",
    "    X_stan_new = transformer.transform(new_song)\n",
    "    new_song_pred = kmeans.predict(X_stan_new)\n",
    "    poss=song_and_features[song_and_features['cluster'] == new_song_pred[0]].reset_index()\n",
    "    p = random.randint(0,len(poss))\n",
    "    print('You should try '+ poss.iloc[p]['title'] +' by '+ poss.iloc[p]['artist'] )\n"
   ]
  },
  {
   "cell_type": "code",
   "execution_count": null,
   "metadata": {},
   "outputs": [],
   "source": [
    "# I will add a query to prove, whether the program uses the right input song!."
   ]
  },
  {
   "cell_type": "code",
   "execution_count": 147,
   "metadata": {},
   "outputs": [
    {
     "data": {
      "text/plain": [
       "{'tracks': {'href': 'https://api.spotify.com/v1/search?query=living+other+lives&type=track&offset=0&limit=1',\n",
       "  'items': [{'album': {'album_type': 'album',\n",
       "     'artists': [{'external_urls': {'spotify': 'https://open.spotify.com/artist/3DL71JYSG6VREkmLSzfWhU'},\n",
       "       'href': 'https://api.spotify.com/v1/artists/3DL71JYSG6VREkmLSzfWhU',\n",
       "       'id': '3DL71JYSG6VREkmLSzfWhU',\n",
       "       'name': 'Efterklang',\n",
       "       'type': 'artist',\n",
       "       'uri': 'spotify:artist:3DL71JYSG6VREkmLSzfWhU'}],\n",
       "     'available_markets': ['AD',\n",
       "      'AE',\n",
       "      'AG',\n",
       "      'AL',\n",
       "      'AM',\n",
       "      'AO',\n",
       "      'AR',\n",
       "      'AT',\n",
       "      'AZ',\n",
       "      'BA',\n",
       "      'BB',\n",
       "      'BD',\n",
       "      'BE',\n",
       "      'BF',\n",
       "      'BG',\n",
       "      'BH',\n",
       "      'BI',\n",
       "      'BJ',\n",
       "      'BN',\n",
       "      'BO',\n",
       "      'BR',\n",
       "      'BS',\n",
       "      'BT',\n",
       "      'BW',\n",
       "      'BY',\n",
       "      'BZ',\n",
       "      'CA',\n",
       "      'CD',\n",
       "      'CG',\n",
       "      'CH',\n",
       "      'CI',\n",
       "      'CL',\n",
       "      'CM',\n",
       "      'CO',\n",
       "      'CR',\n",
       "      'CV',\n",
       "      'CW',\n",
       "      'CY',\n",
       "      'CZ',\n",
       "      'DE',\n",
       "      'DJ',\n",
       "      'DK',\n",
       "      'DM',\n",
       "      'DO',\n",
       "      'DZ',\n",
       "      'EC',\n",
       "      'EE',\n",
       "      'EG',\n",
       "      'ES',\n",
       "      'FI',\n",
       "      'FJ',\n",
       "      'FM',\n",
       "      'FR',\n",
       "      'GA',\n",
       "      'GB',\n",
       "      'GD',\n",
       "      'GE',\n",
       "      'GH',\n",
       "      'GM',\n",
       "      'GN',\n",
       "      'GQ',\n",
       "      'GR',\n",
       "      'GT',\n",
       "      'GW',\n",
       "      'GY',\n",
       "      'HK',\n",
       "      'HN',\n",
       "      'HR',\n",
       "      'HT',\n",
       "      'HU',\n",
       "      'ID',\n",
       "      'IE',\n",
       "      'IL',\n",
       "      'IN',\n",
       "      'IQ',\n",
       "      'IS',\n",
       "      'IT',\n",
       "      'JM',\n",
       "      'JO',\n",
       "      'JP',\n",
       "      'KE',\n",
       "      'KG',\n",
       "      'KH',\n",
       "      'KI',\n",
       "      'KM',\n",
       "      'KN',\n",
       "      'KR',\n",
       "      'KW',\n",
       "      'KZ',\n",
       "      'LA',\n",
       "      'LB',\n",
       "      'LC',\n",
       "      'LI',\n",
       "      'LK',\n",
       "      'LR',\n",
       "      'LS',\n",
       "      'LT',\n",
       "      'LU',\n",
       "      'LV',\n",
       "      'LY',\n",
       "      'MA',\n",
       "      'MC',\n",
       "      'MD',\n",
       "      'ME',\n",
       "      'MG',\n",
       "      'MH',\n",
       "      'MK',\n",
       "      'ML',\n",
       "      'MN',\n",
       "      'MO',\n",
       "      'MR',\n",
       "      'MT',\n",
       "      'MU',\n",
       "      'MV',\n",
       "      'MW',\n",
       "      'MX',\n",
       "      'MY',\n",
       "      'MZ',\n",
       "      'NA',\n",
       "      'NE',\n",
       "      'NG',\n",
       "      'NI',\n",
       "      'NL',\n",
       "      'NO',\n",
       "      'NP',\n",
       "      'NR',\n",
       "      'OM',\n",
       "      'PA',\n",
       "      'PE',\n",
       "      'PG',\n",
       "      'PH',\n",
       "      'PK',\n",
       "      'PL',\n",
       "      'PS',\n",
       "      'PT',\n",
       "      'PW',\n",
       "      'PY',\n",
       "      'QA',\n",
       "      'RO',\n",
       "      'RS',\n",
       "      'RW',\n",
       "      'SA',\n",
       "      'SB',\n",
       "      'SC',\n",
       "      'SE',\n",
       "      'SG',\n",
       "      'SI',\n",
       "      'SK',\n",
       "      'SL',\n",
       "      'SM',\n",
       "      'SN',\n",
       "      'SR',\n",
       "      'ST',\n",
       "      'SV',\n",
       "      'SZ',\n",
       "      'TD',\n",
       "      'TG',\n",
       "      'TH',\n",
       "      'TJ',\n",
       "      'TL',\n",
       "      'TN',\n",
       "      'TO',\n",
       "      'TR',\n",
       "      'TT',\n",
       "      'TV',\n",
       "      'TW',\n",
       "      'TZ',\n",
       "      'UA',\n",
       "      'UG',\n",
       "      'US',\n",
       "      'UY',\n",
       "      'UZ',\n",
       "      'VC',\n",
       "      'VE',\n",
       "      'VN',\n",
       "      'VU',\n",
       "      'WS',\n",
       "      'XK',\n",
       "      'ZA',\n",
       "      'ZM',\n",
       "      'ZW'],\n",
       "     'external_urls': {'spotify': 'https://open.spotify.com/album/2rmhpknKNcy727O1kh8lU2'},\n",
       "     'href': 'https://api.spotify.com/v1/albums/2rmhpknKNcy727O1kh8lU2',\n",
       "     'id': '2rmhpknKNcy727O1kh8lU2',\n",
       "     'images': [{'height': 640,\n",
       "       'url': 'https://i.scdn.co/image/ab67616d0000b273706a8aeae7a6aa448b4662f8',\n",
       "       'width': 640},\n",
       "      {'height': 300,\n",
       "       'url': 'https://i.scdn.co/image/ab67616d00001e02706a8aeae7a6aa448b4662f8',\n",
       "       'width': 300},\n",
       "      {'height': 64,\n",
       "       'url': 'https://i.scdn.co/image/ab67616d00004851706a8aeae7a6aa448b4662f8',\n",
       "       'width': 64}],\n",
       "     'name': 'Windflowers',\n",
       "     'release_date': '2021-10-08',\n",
       "     'release_date_precision': 'day',\n",
       "     'total_tracks': 9,\n",
       "     'type': 'album',\n",
       "     'uri': 'spotify:album:2rmhpknKNcy727O1kh8lU2'},\n",
       "    'artists': [{'external_urls': {'spotify': 'https://open.spotify.com/artist/3DL71JYSG6VREkmLSzfWhU'},\n",
       "      'href': 'https://api.spotify.com/v1/artists/3DL71JYSG6VREkmLSzfWhU',\n",
       "      'id': '3DL71JYSG6VREkmLSzfWhU',\n",
       "      'name': 'Efterklang',\n",
       "      'type': 'artist',\n",
       "      'uri': 'spotify:artist:3DL71JYSG6VREkmLSzfWhU'}],\n",
       "    'available_markets': ['AD',\n",
       "     'AE',\n",
       "     'AG',\n",
       "     'AL',\n",
       "     'AM',\n",
       "     'AO',\n",
       "     'AR',\n",
       "     'AT',\n",
       "     'AZ',\n",
       "     'BA',\n",
       "     'BB',\n",
       "     'BD',\n",
       "     'BE',\n",
       "     'BF',\n",
       "     'BG',\n",
       "     'BH',\n",
       "     'BI',\n",
       "     'BJ',\n",
       "     'BN',\n",
       "     'BO',\n",
       "     'BR',\n",
       "     'BS',\n",
       "     'BT',\n",
       "     'BW',\n",
       "     'BY',\n",
       "     'BZ',\n",
       "     'CA',\n",
       "     'CD',\n",
       "     'CG',\n",
       "     'CH',\n",
       "     'CI',\n",
       "     'CL',\n",
       "     'CM',\n",
       "     'CO',\n",
       "     'CR',\n",
       "     'CV',\n",
       "     'CW',\n",
       "     'CY',\n",
       "     'CZ',\n",
       "     'DE',\n",
       "     'DJ',\n",
       "     'DK',\n",
       "     'DM',\n",
       "     'DO',\n",
       "     'DZ',\n",
       "     'EC',\n",
       "     'EE',\n",
       "     'EG',\n",
       "     'ES',\n",
       "     'FI',\n",
       "     'FJ',\n",
       "     'FM',\n",
       "     'FR',\n",
       "     'GA',\n",
       "     'GB',\n",
       "     'GD',\n",
       "     'GE',\n",
       "     'GH',\n",
       "     'GM',\n",
       "     'GN',\n",
       "     'GQ',\n",
       "     'GR',\n",
       "     'GT',\n",
       "     'GW',\n",
       "     'GY',\n",
       "     'HK',\n",
       "     'HN',\n",
       "     'HR',\n",
       "     'HT',\n",
       "     'HU',\n",
       "     'ID',\n",
       "     'IE',\n",
       "     'IL',\n",
       "     'IN',\n",
       "     'IQ',\n",
       "     'IS',\n",
       "     'IT',\n",
       "     'JM',\n",
       "     'JO',\n",
       "     'JP',\n",
       "     'KE',\n",
       "     'KG',\n",
       "     'KH',\n",
       "     'KI',\n",
       "     'KM',\n",
       "     'KN',\n",
       "     'KR',\n",
       "     'KW',\n",
       "     'KZ',\n",
       "     'LA',\n",
       "     'LB',\n",
       "     'LC',\n",
       "     'LI',\n",
       "     'LK',\n",
       "     'LR',\n",
       "     'LS',\n",
       "     'LT',\n",
       "     'LU',\n",
       "     'LV',\n",
       "     'LY',\n",
       "     'MA',\n",
       "     'MC',\n",
       "     'MD',\n",
       "     'ME',\n",
       "     'MG',\n",
       "     'MH',\n",
       "     'MK',\n",
       "     'ML',\n",
       "     'MN',\n",
       "     'MO',\n",
       "     'MR',\n",
       "     'MT',\n",
       "     'MU',\n",
       "     'MV',\n",
       "     'MW',\n",
       "     'MX',\n",
       "     'MY',\n",
       "     'MZ',\n",
       "     'NA',\n",
       "     'NE',\n",
       "     'NG',\n",
       "     'NI',\n",
       "     'NL',\n",
       "     'NO',\n",
       "     'NP',\n",
       "     'NR',\n",
       "     'OM',\n",
       "     'PA',\n",
       "     'PE',\n",
       "     'PG',\n",
       "     'PH',\n",
       "     'PK',\n",
       "     'PL',\n",
       "     'PS',\n",
       "     'PT',\n",
       "     'PW',\n",
       "     'PY',\n",
       "     'QA',\n",
       "     'RO',\n",
       "     'RS',\n",
       "     'RW',\n",
       "     'SA',\n",
       "     'SB',\n",
       "     'SC',\n",
       "     'SE',\n",
       "     'SG',\n",
       "     'SI',\n",
       "     'SK',\n",
       "     'SL',\n",
       "     'SM',\n",
       "     'SN',\n",
       "     'SR',\n",
       "     'ST',\n",
       "     'SV',\n",
       "     'SZ',\n",
       "     'TD',\n",
       "     'TG',\n",
       "     'TH',\n",
       "     'TJ',\n",
       "     'TL',\n",
       "     'TN',\n",
       "     'TO',\n",
       "     'TR',\n",
       "     'TT',\n",
       "     'TV',\n",
       "     'TW',\n",
       "     'TZ',\n",
       "     'UA',\n",
       "     'UG',\n",
       "     'US',\n",
       "     'UY',\n",
       "     'UZ',\n",
       "     'VC',\n",
       "     'VE',\n",
       "     'VN',\n",
       "     'VU',\n",
       "     'WS',\n",
       "     'XK',\n",
       "     'ZA',\n",
       "     'ZM',\n",
       "     'ZW'],\n",
       "    'disc_number': 1,\n",
       "    'duration_ms': 338245,\n",
       "    'explicit': False,\n",
       "    'external_ids': {'isrc': 'DED622100091'},\n",
       "    'external_urls': {'spotify': 'https://open.spotify.com/track/3XFMK15Mx4gT1uTZNgFfsl'},\n",
       "    'href': 'https://api.spotify.com/v1/tracks/3XFMK15Mx4gT1uTZNgFfsl',\n",
       "    'id': '3XFMK15Mx4gT1uTZNgFfsl',\n",
       "    'is_local': False,\n",
       "    'name': 'Living Other Lives',\n",
       "    'popularity': 34,\n",
       "    'preview_url': 'https://p.scdn.co/mp3-preview/93db88feec240f8edd731ec8cefca81af097909c?cid=1343821d33fe4b4c813a5b0d6c7db9a9',\n",
       "    'track_number': 6,\n",
       "    'type': 'track',\n",
       "    'uri': 'spotify:track:3XFMK15Mx4gT1uTZNgFfsl'}],\n",
       "  'limit': 1,\n",
       "  'next': 'https://api.spotify.com/v1/search?query=living+other+lives&type=track&offset=1&limit=1',\n",
       "  'offset': 0,\n",
       "  'previous': None,\n",
       "  'total': 24}}"
      ]
     },
     "execution_count": 147,
     "metadata": {},
     "output_type": "execute_result"
    }
   ],
   "source": [
    "result"
   ]
  }
 ],
 "metadata": {
  "kernelspec": {
   "display_name": "Python 3",
   "language": "python",
   "name": "python3"
  },
  "language_info": {
   "codemirror_mode": {
    "name": "ipython",
    "version": 3
   },
   "file_extension": ".py",
   "mimetype": "text/x-python",
   "name": "python",
   "nbconvert_exporter": "python",
   "pygments_lexer": "ipython3",
   "version": "3.8.5"
  }
 },
 "nbformat": 4,
 "nbformat_minor": 4
}
