{
 "cells": [
  {
   "cell_type": "code",
   "execution_count": 1,
   "metadata": {},
   "outputs": [],
   "source": [
    "#Import important libraries\n",
    "from bs4 import BeautifulSoup\n",
    "import requests\n",
    "import pandas as pd"
   ]
  },
  {
   "cell_type": "code",
   "execution_count": 2,
   "metadata": {},
   "outputs": [],
   "source": [
    "url = 'https://www.popvortex.com/music/charts/top-100-songs.php'"
   ]
  },
  {
   "cell_type": "code",
   "execution_count": 3,
   "metadata": {},
   "outputs": [
    {
     "data": {
      "text/plain": [
       "200"
      ]
     },
     "execution_count": 3,
     "metadata": {},
     "output_type": "execute_result"
    }
   ],
   "source": [
    "response = requests.get(url)\n",
    "response.status_code "
   ]
  },
  {
   "cell_type": "code",
   "execution_count": 4,
   "metadata": {},
   "outputs": [],
   "source": [
    "soup = BeautifulSoup(response.content, \"html.parser\")"
   ]
  },
  {
   "cell_type": "code",
   "execution_count": null,
   "metadata": {},
   "outputs": [],
   "source": [
    "soup\n",
    "print(soup.prettify())"
   ]
  },
  {
   "cell_type": "code",
   "execution_count": 6,
   "metadata": {},
   "outputs": [
    {
     "data": {
      "text/plain": [
       "[<cite class=\"title\">About Damn Time</cite>]"
      ]
     },
     "execution_count": 6,
     "metadata": {},
     "output_type": "execute_result"
    }
   ],
   "source": [
    "#chart-position-1 > div.chart-content.col-xs-12.col-sm-8 > p > cite\n",
    "soup.select('#chart-position-1 > div.chart-content.col-xs-12.col-sm-8 > p > cite')"
   ]
  },
  {
   "cell_type": "code",
   "execution_count": null,
   "metadata": {},
   "outputs": [],
   "source": [
    "soup.select('div.chart-content.col-xs-12.col-sm-8 ')"
   ]
  },
  {
   "cell_type": "code",
   "execution_count": 19,
   "metadata": {},
   "outputs": [],
   "source": [
    "#Select only the titles:\n",
    "title_soup=soup.select('cite.title')"
   ]
  },
  {
   "cell_type": "code",
   "execution_count": 9,
   "metadata": {},
   "outputs": [
    {
     "data": {
      "text/plain": [
       "'Lizzo'"
      ]
     },
     "execution_count": 9,
     "metadata": {},
     "output_type": "execute_result"
    }
   ],
   "source": [
    "soup.select('em.artist')[0].get_text()"
   ]
  },
  {
   "cell_type": "code",
   "execution_count": 46,
   "metadata": {},
   "outputs": [
    {
     "ename": "IndexError",
     "evalue": "list index out of range",
     "output_type": "error",
     "traceback": [
      "\u001b[1;31m---------------------------------------------------------------------------\u001b[0m",
      "\u001b[1;31mIndexError\u001b[0m                                Traceback (most recent call last)",
      "\u001b[1;32m<ipython-input-46-88e4a9ac9ee4>\u001b[0m in \u001b[0;36m<module>\u001b[1;34m\u001b[0m\n\u001b[0;32m      2\u001b[0m \u001b[1;31m#chart-position-1 > div:nth-child(2) > ul:nth-child(2) > li:nth-child(1) > a:nth-child(2)#\u001b[0m\u001b[1;33m\u001b[0m\u001b[1;33m\u001b[0m\u001b[1;33m\u001b[0m\u001b[0m\n\u001b[0;32m      3\u001b[0m \u001b[0mgenre_soup\u001b[0m\u001b[1;33m=\u001b[0m\u001b[0msoup\u001b[0m\u001b[1;33m.\u001b[0m\u001b[0mselect\u001b[0m\u001b[1;33m(\u001b[0m\u001b[1;34m'div:nth-child(2) > ul:nth-child(2) > li:nth-child(1) > a:nth-child(2)'\u001b[0m\u001b[1;33m)\u001b[0m\u001b[1;33m\u001b[0m\u001b[1;33m\u001b[0m\u001b[0m\n\u001b[1;32m----> 4\u001b[1;33m \u001b[0mprint\u001b[0m\u001b[1;33m(\u001b[0m\u001b[0mgenre_soup\u001b[0m\u001b[1;33m[\u001b[0m\u001b[1;36m82\u001b[0m\u001b[1;33m]\u001b[0m\u001b[1;33m)\u001b[0m\u001b[1;33m\u001b[0m\u001b[1;33m\u001b[0m\u001b[0m\n\u001b[0m",
      "\u001b[1;31mIndexError\u001b[0m: list index out of range"
     ]
    }
   ],
   "source": [
    "#Genre\n",
    "# This doesn't work. I tried something else, which only works half way, will come back to it!\n",
    "#chart-position-1 > div:nth-child(2) > ul:nth-child(2) > li:nth-child(1) > a:nth-child(2)#\n",
    "genre_soup=soup.select('div:nth-child(2) > ul:nth-child(2) > li:nth-child(1) > a:nth-child(2)')\n",
    "print(genre_soup[82])"
   ]
  },
  {
   "cell_type": "code",
   "execution_count": null,
   "metadata": {},
   "outputs": [],
   "source": [
    "#chart-position-93 > div.chart-content.col-xs-12.col-sm-8 > ul > li:nth-child(1)\n",
    "soup.select('div.chart-content.col-xs-12.col-sm-8 > ul > li:nth-child(1)')\n"
   ]
  },
  {
   "cell_type": "code",
   "execution_count": 53,
   "metadata": {},
   "outputs": [
    {
     "name": "stdout",
     "output_type": "stream",
     "text": [
      "<li><strong>Genre</strong>: <a href=\"/music/charts/top-pop-songs.php\">Pop</a></li>\n"
     ]
    }
   ],
   "source": [
    "#genre = []\n",
    "\n",
    "ge = soup.select('div.chart-content.col-xs-12.col-sm-8 > ul > li:nth-child(1)')[0]\n",
    "\n",
    "print(ge)\n",
    "\n",
    "#for ge in soup.select('div.chart-content.col-xs-12.col-sm-8 > ul > li:nth-child(1)'):\n",
    "#    # link = pr['href'] does not work; last item does not have an href\n",
    "#    link = ge.get(\"href\")\n",
    "#    print(link)\n",
    "#    if link is not None:\n",
    "#        if ((\"/wiki\" in link) & \n",
    "#            (\"election\" not in link) & \n",
    "#            (\"residen\" not in link)):\n",
    "#            presidents.append(link)"
   ]
  },
  {
   "cell_type": "code",
   "execution_count": null,
   "metadata": {},
   "outputs": [],
   "source": [
    "#Release Date:\n",
    "##chart-position-19 > div:nth-child(2) > ul:nth-child(2) > li:nth-child(2)\n",
    "# #chart-position-1 > div.chart-content.col-xs-12.col-sm-8 > ul > li:nth-child(2)\n",
    "release_date = soup.select('div.chart-content.col-xs-12.col-sm-8 > ul > li:nth-child(2)')\n",
    "\n",
    "\n",
    "##chart-position-1 > div.chart-content.col-xs-12.col-sm-8 > ul > li:nth-child(2)\n",
    "##chart-position-1 > div.chart-content.col-xs-12.col-sm-8 > ul > li:nth-child(1)"
   ]
  },
  {
   "cell_type": "markdown",
   "metadata": {},
   "source": [
    "## Create dataframe"
   ]
  },
  {
   "cell_type": "code",
   "execution_count": 32,
   "metadata": {},
   "outputs": [
    {
     "name": "stdout",
     "output_type": "stream",
     "text": [
      "100\n"
     ]
    }
   ],
   "source": [
    "#initialize empty lists\n",
    "title = []\n",
    "artist = []\n",
    "genre = []\n",
    "\n",
    "\n",
    "## define the number of iterations of our for loop\n",
    "## by checking how many elements are in the retrieved result set\n",
    "## (this is equivalent but more robust than just explicitly defining 250 iterations)\n",
    "num_iter = len(soup.select(\"cite.title\"))\n",
    "print(num_iter)\n",
    "#\n",
    "\n",
    "artist_soup = soup.select('em.artist')\n",
    "# = soup.select(\"\")\n",
    "#spanlist = soup.select(\"td.titleColumn span.secondaryInfo\")\n",
    "### iterate through the result set and retrive all the data\n",
    "for i in range(num_iter):\n",
    "    title.append(title_soup[i].get_text())\n",
    "    artist.append(artist_soup[i].get_text())\n",
    "    try:\n",
    "        genre.append(genre_soup[i].get_text())\n",
    "    except:\n",
    "        genre.append(\"NA\")\n",
    "    \n",
    "#\n",
    "#print(title)\n",
    "#print(dir_stars)\n",
    "#print(year)"
   ]
  },
  {
   "cell_type": "code",
   "execution_count": 109,
   "metadata": {
    "scrolled": true
   },
   "outputs": [
    {
     "data": {
      "text/html": [
       "<div>\n",
       "<style scoped>\n",
       "    .dataframe tbody tr th:only-of-type {\n",
       "        vertical-align: middle;\n",
       "    }\n",
       "\n",
       "    .dataframe tbody tr th {\n",
       "        vertical-align: top;\n",
       "    }\n",
       "\n",
       "    .dataframe thead th {\n",
       "        text-align: right;\n",
       "    }\n",
       "</style>\n",
       "<table border=\"1\" class=\"dataframe\">\n",
       "  <thead>\n",
       "    <tr style=\"text-align: right;\">\n",
       "      <th></th>\n",
       "      <th>title</th>\n",
       "      <th>artist</th>\n",
       "      <th>genre</th>\n",
       "    </tr>\n",
       "  </thead>\n",
       "  <tbody>\n",
       "    <tr>\n",
       "      <th>1</th>\n",
       "      <td>About Damn Time</td>\n",
       "      <td>Lizzo</td>\n",
       "      <td>Pop</td>\n",
       "    </tr>\n",
       "    <tr>\n",
       "      <th>2</th>\n",
       "      <td>Running Up That Hill (A Deal with God)</td>\n",
       "      <td>Kate Bush</td>\n",
       "      <td>Pop</td>\n",
       "    </tr>\n",
       "    <tr>\n",
       "      <th>3</th>\n",
       "      <td>Y'all Life</td>\n",
       "      <td>Walker Hayes</td>\n",
       "      <td>Pop</td>\n",
       "    </tr>\n",
       "    <tr>\n",
       "      <th>4</th>\n",
       "      <td>Names</td>\n",
       "      <td>Tom MacDonald</td>\n",
       "      <td>Pop</td>\n",
       "    </tr>\n",
       "    <tr>\n",
       "      <th>5</th>\n",
       "      <td>BREAK MY SOUL</td>\n",
       "      <td>Beyoncé</td>\n",
       "      <td>Country</td>\n",
       "    </tr>\n",
       "    <tr>\n",
       "      <th>...</th>\n",
       "      <td>...</td>\n",
       "      <td>...</td>\n",
       "      <td>...</td>\n",
       "    </tr>\n",
       "    <tr>\n",
       "      <th>96</th>\n",
       "      <td>Danger Zone</td>\n",
       "      <td>Kenny Loggins</td>\n",
       "      <td>NA</td>\n",
       "    </tr>\n",
       "    <tr>\n",
       "      <th>97</th>\n",
       "      <td>Buy Dirt (feat. Luke Bryan)</td>\n",
       "      <td>Jordan Davis</td>\n",
       "      <td>NA</td>\n",
       "    </tr>\n",
       "    <tr>\n",
       "      <th>98</th>\n",
       "      <td>Thick Fine Woman (feat. Lil' Ronny Mothaf, Fat...</td>\n",
       "      <td>Chalie Boy</td>\n",
       "      <td>NA</td>\n",
       "    </tr>\n",
       "    <tr>\n",
       "      <th>99</th>\n",
       "      <td>Levitating (feat. DaBaby)</td>\n",
       "      <td>Dua Lipa</td>\n",
       "      <td>NA</td>\n",
       "    </tr>\n",
       "    <tr>\n",
       "      <th>100</th>\n",
       "      <td>Project</td>\n",
       "      <td>Chase McDaniel</td>\n",
       "      <td>NA</td>\n",
       "    </tr>\n",
       "  </tbody>\n",
       "</table>\n",
       "<p>100 rows × 3 columns</p>\n",
       "</div>"
      ],
      "text/plain": [
       "                                                 title          artist  \\\n",
       "1                                      About Damn Time           Lizzo   \n",
       "2               Running Up That Hill (A Deal with God)       Kate Bush   \n",
       "3                                           Y'all Life    Walker Hayes   \n",
       "4                                                Names   Tom MacDonald   \n",
       "5                                        BREAK MY SOUL         Beyoncé   \n",
       "..                                                 ...             ...   \n",
       "96                                         Danger Zone   Kenny Loggins   \n",
       "97                         Buy Dirt (feat. Luke Bryan)    Jordan Davis   \n",
       "98   Thick Fine Woman (feat. Lil' Ronny Mothaf, Fat...      Chalie Boy   \n",
       "99                           Levitating (feat. DaBaby)        Dua Lipa   \n",
       "100                                            Project  Chase McDaniel   \n",
       "\n",
       "       genre  \n",
       "1        Pop  \n",
       "2        Pop  \n",
       "3        Pop  \n",
       "4        Pop  \n",
       "5    Country  \n",
       "..       ...  \n",
       "96        NA  \n",
       "97        NA  \n",
       "98        NA  \n",
       "99        NA  \n",
       "100       NA  \n",
       "\n",
       "[100 rows x 3 columns]"
      ]
     },
     "metadata": {},
     "output_type": "display_data"
    }
   ],
   "source": [
    "# each list becomes a column\n",
    "top_100 = pd.DataFrame({'title':title,\n",
    "                       'artist':artist,\n",
    "                        'genre':genre\n",
    "                      })\n",
    "top_100.index += 1\n",
    "display(top_100)"
   ]
  },
  {
   "cell_type": "code",
   "execution_count": 37,
   "metadata": {},
   "outputs": [
    {
     "data": {
      "text/html": [
       "<div>\n",
       "<style scoped>\n",
       "    .dataframe tbody tr th:only-of-type {\n",
       "        vertical-align: middle;\n",
       "    }\n",
       "\n",
       "    .dataframe tbody tr th {\n",
       "        vertical-align: top;\n",
       "    }\n",
       "\n",
       "    .dataframe thead th {\n",
       "        text-align: right;\n",
       "    }\n",
       "</style>\n",
       "<table border=\"1\" class=\"dataframe\">\n",
       "  <thead>\n",
       "    <tr style=\"text-align: right;\">\n",
       "      <th></th>\n",
       "      <th>title</th>\n",
       "      <th>artist</th>\n",
       "      <th>genre</th>\n",
       "    </tr>\n",
       "  </thead>\n",
       "  <tbody>\n",
       "    <tr>\n",
       "      <th>82</th>\n",
       "      <td>Take My Name</td>\n",
       "      <td>Parmalee</td>\n",
       "      <td>NA</td>\n",
       "    </tr>\n",
       "    <tr>\n",
       "      <th>83</th>\n",
       "      <td>Intro</td>\n",
       "      <td>j-hope</td>\n",
       "      <td>NA</td>\n",
       "    </tr>\n",
       "    <tr>\n",
       "      <th>84</th>\n",
       "      <td>Big Energy</td>\n",
       "      <td>Latto</td>\n",
       "      <td>NA</td>\n",
       "    </tr>\n",
       "    <tr>\n",
       "      <th>85</th>\n",
       "      <td>Soul</td>\n",
       "      <td>Lee Brice</td>\n",
       "      <td>NA</td>\n",
       "    </tr>\n",
       "    <tr>\n",
       "      <th>86</th>\n",
       "      <td>She Likes It (feat. Jake Scott)</td>\n",
       "      <td>Russell Dickerson &amp; Jake Scott</td>\n",
       "      <td>NA</td>\n",
       "    </tr>\n",
       "    <tr>\n",
       "      <th>87</th>\n",
       "      <td>Wild Palomino</td>\n",
       "      <td>Zac Brown Band &amp; Cody Johnson</td>\n",
       "      <td>NA</td>\n",
       "    </tr>\n",
       "    <tr>\n",
       "      <th>88</th>\n",
       "      <td>Hold On</td>\n",
       "      <td>Wilson Phillips</td>\n",
       "      <td>NA</td>\n",
       "    </tr>\n",
       "    <tr>\n",
       "      <th>89</th>\n",
       "      <td>Sand In My Boots</td>\n",
       "      <td>Morgan Wallen</td>\n",
       "      <td>NA</td>\n",
       "    </tr>\n",
       "    <tr>\n",
       "      <th>90</th>\n",
       "      <td>W.I.T.C.H.</td>\n",
       "      <td>Devon Cole</td>\n",
       "      <td>NA</td>\n",
       "    </tr>\n",
       "    <tr>\n",
       "      <th>91</th>\n",
       "      <td>Heat Waves</td>\n",
       "      <td>Glass Animals</td>\n",
       "      <td>NA</td>\n",
       "    </tr>\n",
       "    <tr>\n",
       "      <th>92</th>\n",
       "      <td>abcdefu (feat. Royal &amp; the Serpent)</td>\n",
       "      <td>GAYLE</td>\n",
       "      <td>NA</td>\n",
       "    </tr>\n",
       "    <tr>\n",
       "      <th>93</th>\n",
       "      <td>Hold My Hand (Music From The Motion Picture \"T...</td>\n",
       "      <td>Lady Gaga</td>\n",
       "      <td>NA</td>\n",
       "    </tr>\n",
       "    <tr>\n",
       "      <th>94</th>\n",
       "      <td>Numb Little Bug</td>\n",
       "      <td>Em Beihold</td>\n",
       "      <td>NA</td>\n",
       "    </tr>\n",
       "    <tr>\n",
       "      <th>95</th>\n",
       "      <td>Danger Zone</td>\n",
       "      <td>Kenny Loggins</td>\n",
       "      <td>NA</td>\n",
       "    </tr>\n",
       "    <tr>\n",
       "      <th>96</th>\n",
       "      <td>Buy Dirt (feat. Luke Bryan)</td>\n",
       "      <td>Jordan Davis</td>\n",
       "      <td>NA</td>\n",
       "    </tr>\n",
       "    <tr>\n",
       "      <th>97</th>\n",
       "      <td>Thick Fine Woman (feat. Lil' Ronny Mothaf, Fat...</td>\n",
       "      <td>Chalie Boy</td>\n",
       "      <td>NA</td>\n",
       "    </tr>\n",
       "    <tr>\n",
       "      <th>98</th>\n",
       "      <td>Levitating (feat. DaBaby)</td>\n",
       "      <td>Dua Lipa</td>\n",
       "      <td>NA</td>\n",
       "    </tr>\n",
       "    <tr>\n",
       "      <th>99</th>\n",
       "      <td>Project</td>\n",
       "      <td>Chase McDaniel</td>\n",
       "      <td>NA</td>\n",
       "    </tr>\n",
       "  </tbody>\n",
       "</table>\n",
       "</div>"
      ],
      "text/plain": [
       "                                                title  \\\n",
       "82                                       Take My Name   \n",
       "83                                              Intro   \n",
       "84                                         Big Energy   \n",
       "85                                               Soul   \n",
       "86                    She Likes It (feat. Jake Scott)   \n",
       "87                                      Wild Palomino   \n",
       "88                                            Hold On   \n",
       "89                                   Sand In My Boots   \n",
       "90                                         W.I.T.C.H.   \n",
       "91                                         Heat Waves   \n",
       "92                abcdefu (feat. Royal & the Serpent)   \n",
       "93  Hold My Hand (Music From The Motion Picture \"T...   \n",
       "94                                    Numb Little Bug   \n",
       "95                                        Danger Zone   \n",
       "96                        Buy Dirt (feat. Luke Bryan)   \n",
       "97  Thick Fine Woman (feat. Lil' Ronny Mothaf, Fat...   \n",
       "98                          Levitating (feat. DaBaby)   \n",
       "99                                            Project   \n",
       "\n",
       "                            artist genre  \n",
       "82                        Parmalee    NA  \n",
       "83                          j-hope    NA  \n",
       "84                           Latto    NA  \n",
       "85                       Lee Brice    NA  \n",
       "86  Russell Dickerson & Jake Scott    NA  \n",
       "87   Zac Brown Band & Cody Johnson    NA  \n",
       "88                 Wilson Phillips    NA  \n",
       "89                   Morgan Wallen    NA  \n",
       "90                      Devon Cole    NA  \n",
       "91                   Glass Animals    NA  \n",
       "92                           GAYLE    NA  \n",
       "93                       Lady Gaga    NA  \n",
       "94                      Em Beihold    NA  \n",
       "95                   Kenny Loggins    NA  \n",
       "96                    Jordan Davis    NA  \n",
       "97                      Chalie Boy    NA  \n",
       "98                        Dua Lipa    NA  \n",
       "99                  Chase McDaniel    NA  "
      ]
     },
     "execution_count": 37,
     "metadata": {},
     "output_type": "execute_result"
    }
   ],
   "source": [
    "top_100[top_100['genre'] == 'NA']"
   ]
  },
  {
   "cell_type": "code",
   "execution_count": null,
   "metadata": {},
   "outputs": [],
   "source": []
  },
  {
   "cell_type": "markdown",
   "metadata": {},
   "source": [
    "## Use different website:"
   ]
  },
  {
   "cell_type": "code",
   "execution_count": 79,
   "metadata": {},
   "outputs": [],
   "source": [
    "url2 = 'https://playback.fm/charts/top-100-songs/2021'"
   ]
  },
  {
   "cell_type": "code",
   "execution_count": 80,
   "metadata": {},
   "outputs": [
    {
     "data": {
      "text/plain": [
       "200"
      ]
     },
     "execution_count": 80,
     "metadata": {},
     "output_type": "execute_result"
    }
   ],
   "source": [
    "response = requests.get(url2)\n",
    "response.status_code "
   ]
  },
  {
   "cell_type": "code",
   "execution_count": 82,
   "metadata": {},
   "outputs": [],
   "source": [
    "soup2 = BeautifulSoup(response.content, \"html.parser\")"
   ]
  },
  {
   "cell_type": "code",
   "execution_count": null,
   "metadata": {},
   "outputs": [],
   "source": [
    "print(soup2.prettify())"
   ]
  },
  {
   "cell_type": "code",
   "execution_count": 89,
   "metadata": {},
   "outputs": [
    {
     "data": {
      "text/plain": [
       "'Dua Lipa & DaBaby'"
      ]
     },
     "execution_count": 89,
     "metadata": {},
     "output_type": "execute_result"
    }
   ],
   "source": [
    "# Selecting the info we want to have: at least title and artist, if available genre:\n",
    "\n",
    "soup2.select('tr td a.artist')[0].get_text().replace('\\n','')\n"
   ]
  },
  {
   "cell_type": "code",
   "execution_count": 102,
   "metadata": {},
   "outputs": [
    {
     "data": {
      "text/plain": [
       "100"
      ]
     },
     "execution_count": 102,
     "metadata": {},
     "output_type": "execute_result"
    }
   ],
   "source": [
    "len(soup2.select('tr td a.artist'))"
   ]
  },
  {
   "cell_type": "code",
   "execution_count": 99,
   "metadata": {},
   "outputs": [
    {
     "data": {
      "text/plain": [
       "'Levitating'"
      ]
     },
     "execution_count": 99,
     "metadata": {},
     "output_type": "execute_result"
    }
   ],
   "source": [
    "soup2.select('tr td span.song')[1].get_text().replace('\\n','')\n",
    "#soup2.find_all(class_=\"song\")\n"
   ]
  },
  {
   "cell_type": "code",
   "execution_count": 98,
   "metadata": {},
   "outputs": [
    {
     "data": {
      "text/plain": [
       "200"
      ]
     },
     "execution_count": 98,
     "metadata": {},
     "output_type": "execute_result"
    }
   ],
   "source": [
    "len(soup2.select('tr td span.song'))"
   ]
  },
  {
   "cell_type": "code",
   "execution_count": 104,
   "metadata": {},
   "outputs": [
    {
     "name": "stdout",
     "output_type": "stream",
     "text": [
      "[0, 2, 4, 6, 8, 10, 12, 14, 16, 18, 20, 22, 24, 26, 28, 30, 32, 34, 36, 38, 40, 42, 44, 46, 48, 50, 52, 54, 56, 58, 60, 62, 64, 66, 68, 70, 72, 74, 76, 78, 80, 82, 84, 86, 88, 90, 92, 94, 96, 98, 100, 102, 104, 106, 108, 110, 112, 114, 116, 118, 120, 122, 124, 126, 128, 130, 132, 134, 136, 138, 140, 142, 144, 146, 148, 150, 152, 154, 156, 158, 160, 162, 164, 166, 168, 170, 172, 174, 176, 178, 180, 182, 184, 186, 188, 190, 192, 194, 196, 198]\n"
     ]
    }
   ],
   "source": [
    "iterations = range(0,200, 2)\n",
    "print([i for i in iterations])\n",
    "\n",
    "title2 = []\n",
    "artist2 = []\n",
    "\n",
    "for i in iterations:\n",
    "    title2.append(soup2.select('tr td span.song')[i].get_text().replace('\\n',''))\n",
    "\n",
    "for i in range(0, 100):\n",
    "    artist2.append(soup2.select('tr td a.artist')[i].get_text().replace('\\n', ''))\n",
    "\n"
   ]
  },
  {
   "cell_type": "code",
   "execution_count": 108,
   "metadata": {},
   "outputs": [
    {
     "data": {
      "text/html": [
       "<div>\n",
       "<style scoped>\n",
       "    .dataframe tbody tr th:only-of-type {\n",
       "        vertical-align: middle;\n",
       "    }\n",
       "\n",
       "    .dataframe tbody tr th {\n",
       "        vertical-align: top;\n",
       "    }\n",
       "\n",
       "    .dataframe thead th {\n",
       "        text-align: right;\n",
       "    }\n",
       "</style>\n",
       "<table border=\"1\" class=\"dataframe\">\n",
       "  <thead>\n",
       "    <tr style=\"text-align: right;\">\n",
       "      <th></th>\n",
       "      <th>title</th>\n",
       "      <th>artist</th>\n",
       "    </tr>\n",
       "  </thead>\n",
       "  <tbody>\n",
       "    <tr>\n",
       "      <th>1</th>\n",
       "      <td>Levitating</td>\n",
       "      <td>Dua Lipa &amp; DaBaby</td>\n",
       "    </tr>\n",
       "    <tr>\n",
       "      <th>2</th>\n",
       "      <td>Drivers License</td>\n",
       "      <td>Olivia Rodrigo</td>\n",
       "    </tr>\n",
       "    <tr>\n",
       "      <th>3</th>\n",
       "      <td>Save Your Tears</td>\n",
       "      <td>The Weeknd &amp; Ariana Grande</td>\n",
       "    </tr>\n",
       "    <tr>\n",
       "      <th>4</th>\n",
       "      <td>Montero (Call Me by Your Name)</td>\n",
       "      <td>Lil Nas X</td>\n",
       "    </tr>\n",
       "    <tr>\n",
       "      <th>5</th>\n",
       "      <td>Blinding Lights</td>\n",
       "      <td>The Weeknd</td>\n",
       "    </tr>\n",
       "    <tr>\n",
       "      <th>...</th>\n",
       "      <td>...</td>\n",
       "      <td>...</td>\n",
       "    </tr>\n",
       "    <tr>\n",
       "      <th>96</th>\n",
       "      <td>Leave Before You Love Me</td>\n",
       "      <td>Marshmello &amp; Jonas Brothers</td>\n",
       "    </tr>\n",
       "    <tr>\n",
       "      <th>97</th>\n",
       "      <td>Beggin</td>\n",
       "      <td>Maneskin</td>\n",
       "    </tr>\n",
       "    <tr>\n",
       "      <th>98</th>\n",
       "      <td>Famous Friends</td>\n",
       "      <td>Chris Young + Kane Brown</td>\n",
       "    </tr>\n",
       "    <tr>\n",
       "      <th>99</th>\n",
       "      <td>Lil Bit</td>\n",
       "      <td>Nelly &amp; Florida Georgia Line</td>\n",
       "    </tr>\n",
       "    <tr>\n",
       "      <th>100</th>\n",
       "      <td>Thot Shit</td>\n",
       "      <td>Megan Thee Stallion</td>\n",
       "    </tr>\n",
       "  </tbody>\n",
       "</table>\n",
       "<p>100 rows × 2 columns</p>\n",
       "</div>"
      ],
      "text/plain": [
       "                              title                        artist\n",
       "1                        Levitating             Dua Lipa & DaBaby\n",
       "2                   Drivers License                Olivia Rodrigo\n",
       "3                   Save Your Tears    The Weeknd & Ariana Grande\n",
       "4    Montero (Call Me by Your Name)                     Lil Nas X\n",
       "5                   Blinding Lights                    The Weeknd\n",
       "..                              ...                           ...\n",
       "96         Leave Before You Love Me   Marshmello & Jonas Brothers\n",
       "97                           Beggin                      Maneskin\n",
       "98                   Famous Friends      Chris Young + Kane Brown\n",
       "99                          Lil Bit  Nelly & Florida Georgia Line\n",
       "100                       Thot Shit           Megan Thee Stallion\n",
       "\n",
       "[100 rows x 2 columns]"
      ]
     },
     "metadata": {},
     "output_type": "display_data"
    }
   ],
   "source": [
    "# Create a DataFrame:\n",
    "top_100_21 = pd.DataFrame({'title':title2,\n",
    "                       'artist':artist2\n",
    "                      })\n",
    "\n",
    "top_100_21.index += 1\n",
    "display(top_100_21)"
   ]
  }
 ],
 "metadata": {
  "kernelspec": {
   "display_name": "Python 3",
   "language": "python",
   "name": "python3"
  },
  "language_info": {
   "codemirror_mode": {
    "name": "ipython",
    "version": 3
   },
   "file_extension": ".py",
   "mimetype": "text/x-python",
   "name": "python",
   "nbconvert_exporter": "python",
   "pygments_lexer": "ipython3",
   "version": "3.8.5"
  }
 },
 "nbformat": 4,
 "nbformat_minor": 4
}
