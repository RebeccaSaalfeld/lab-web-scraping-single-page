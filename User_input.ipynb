{
 "cells": [
  {
   "cell_type": "code",
   "execution_count": 2,
   "metadata": {},
   "outputs": [],
   "source": [
    "#Import important libraries\n",
    "from bs4 import BeautifulSoup\n",
    "import requests\n",
    "import pandas as pd\n",
    "import random\n",
    "import spotipy\n",
    "from spotipy.oauth2 import SpotifyClientCredentials"
   ]
  },
  {
   "cell_type": "code",
   "execution_count": 3,
   "metadata": {},
   "outputs": [],
   "source": [
    "secrets_file = open(\"client.txt\",\"r\")"
   ]
  },
  {
   "cell_type": "code",
   "execution_count": 4,
   "metadata": {},
   "outputs": [],
   "source": [
    "string = secrets_file.read()\n",
    "\n",
    "client_dict={}\n",
    "for line in string.split('\\n'):\n",
    "    if len(line) > 0:\n",
    "        client_dict[line.split(':')[0]]=line.split(':')[1]\n"
   ]
  },
  {
   "cell_type": "code",
   "execution_count": 5,
   "metadata": {},
   "outputs": [],
   "source": [
    "import spotipy\n",
    "from spotipy.oauth2 import SpotifyClientCredentials\n",
    "\n",
    "#Initialize SpotiPy with user credentials\n",
    "sp = spotipy.Spotify(auth_manager=SpotifyClientCredentials(client_id=client_dict['cid'],\n",
    "                                                           client_secret=client_dict['cids']))"
   ]
  },
  {
   "cell_type": "code",
   "execution_count": 6,
   "metadata": {},
   "outputs": [
    {
     "name": "stdout",
     "output_type": "stream",
     "text": [
      "Enter your favourite song (without artist): Vergiss den Quatsch\n"
     ]
    }
   ],
   "source": [
    "song = input(\"Enter your favourite song (without artist): \")"
   ]
  },
  {
   "cell_type": "code",
   "execution_count": 7,
   "metadata": {},
   "outputs": [],
   "source": [
    "result = sp.search(q=song, limit=1)\n",
    "#len(result)"
   ]
  },
  {
   "cell_type": "code",
   "execution_count": 9,
   "metadata": {},
   "outputs": [
    {
     "data": {
      "text/plain": [
       "[{'danceability': 0.692,\n",
       "  'energy': 0.972,\n",
       "  'key': 1,\n",
       "  'loudness': -8.037,\n",
       "  'mode': 0,\n",
       "  'speechiness': 0.0603,\n",
       "  'acousticness': 0.0323,\n",
       "  'instrumentalness': 0.037,\n",
       "  'liveness': 0.696,\n",
       "  'valence': 0.431,\n",
       "  'tempo': 100.667,\n",
       "  'type': 'audio_features',\n",
       "  'id': '4Z7o8ItNIlxOhY1qIUu5Le',\n",
       "  'uri': 'spotify:track:4Z7o8ItNIlxOhY1qIUu5Le',\n",
       "  'track_href': 'https://api.spotify.com/v1/tracks/4Z7o8ItNIlxOhY1qIUu5Le',\n",
       "  'analysis_url': 'https://api.spotify.com/v1/audio-analysis/4Z7o8ItNIlxOhY1qIUu5Le',\n",
       "  'duration_ms': 198960,\n",
       "  'time_signature': 4}]"
      ]
     },
     "execution_count": 9,
     "metadata": {},
     "output_type": "execute_result"
    }
   ],
   "source": [
    "sp.audio_features(result['tracks']['items'][0]['uri'])"
   ]
  }
 ],
 "metadata": {
  "kernelspec": {
   "display_name": "Python 3",
   "language": "python",
   "name": "python3"
  },
  "language_info": {
   "codemirror_mode": {
    "name": "ipython",
    "version": 3
   },
   "file_extension": ".py",
   "mimetype": "text/x-python",
   "name": "python",
   "nbconvert_exporter": "python",
   "pygments_lexer": "ipython3",
   "version": "3.8.5"
  }
 },
 "nbformat": 4,
 "nbformat_minor": 4
}
