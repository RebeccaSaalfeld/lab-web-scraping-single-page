{
 "cells": [
  {
   "cell_type": "code",
   "execution_count": 1,
   "metadata": {},
   "outputs": [],
   "source": [
    "#Import important libraries\n",
    "from bs4 import BeautifulSoup\n",
    "import requests\n",
    "import pandas as pd"
   ]
  },
  {
   "cell_type": "code",
   "execution_count": 2,
   "metadata": {},
   "outputs": [],
   "source": [
    "url = 'https://www.popvortex.com/music/charts/top-100-songs.php'"
   ]
  },
  {
   "cell_type": "code",
   "execution_count": 3,
   "metadata": {},
   "outputs": [
    {
     "data": {
      "text/plain": [
       "200"
      ]
     },
     "execution_count": 3,
     "metadata": {},
     "output_type": "execute_result"
    }
   ],
   "source": [
    "response = requests.get(url)\n",
    "response.status_code "
   ]
  },
  {
   "cell_type": "code",
   "execution_count": 4,
   "metadata": {},
   "outputs": [],
   "source": [
    "soup = BeautifulSoup(response.content, \"html.parser\")"
   ]
  },
  {
   "cell_type": "code",
   "execution_count": null,
   "metadata": {},
   "outputs": [],
   "source": [
    "soup\n",
    "print(soup.prettify())"
   ]
  },
  {
   "cell_type": "code",
   "execution_count": 6,
   "metadata": {},
   "outputs": [
    {
     "data": {
      "text/plain": [
       "[<cite class=\"title\">About Damn Time</cite>]"
      ]
     },
     "execution_count": 6,
     "metadata": {},
     "output_type": "execute_result"
    }
   ],
   "source": [
    "#chart-position-1 > div.chart-content.col-xs-12.col-sm-8 > p > cite\n",
    "soup.select('#chart-position-1 > div.chart-content.col-xs-12.col-sm-8 > p > cite')"
   ]
  },
  {
   "cell_type": "code",
   "execution_count": null,
   "metadata": {},
   "outputs": [],
   "source": [
    "soup.select('div.chart-content.col-xs-12.col-sm-8 ')"
   ]
  },
  {
   "cell_type": "code",
   "execution_count": 8,
   "metadata": {},
   "outputs": [],
   "source": [
    "#Select only the titles:\n",
    "title_soup=soup.select('cite.title')"
   ]
  },
  {
   "cell_type": "code",
   "execution_count": 9,
   "metadata": {},
   "outputs": [
    {
     "data": {
      "text/plain": [
       "'Lizzo'"
      ]
     },
     "execution_count": 9,
     "metadata": {},
     "output_type": "execute_result"
    }
   ],
   "source": [
    "soup.select('em.artist')[0].get_text()"
   ]
  },
  {
   "cell_type": "code",
   "execution_count": 10,
   "metadata": {},
   "outputs": [
    {
     "ename": "IndexError",
     "evalue": "list index out of range",
     "output_type": "error",
     "traceback": [
      "\u001b[1;31m---------------------------------------------------------------------------\u001b[0m",
      "\u001b[1;31mIndexError\u001b[0m                                Traceback (most recent call last)",
      "\u001b[1;32m<ipython-input-10-979a3952427d>\u001b[0m in \u001b[0;36m<module>\u001b[1;34m\u001b[0m\n\u001b[0;32m      3\u001b[0m \u001b[1;31m#chart-position-1 > div:nth-child(2) > ul:nth-child(2) > li:nth-child(1) > a:nth-child(2)#\u001b[0m\u001b[1;33m\u001b[0m\u001b[1;33m\u001b[0m\u001b[1;33m\u001b[0m\u001b[0m\n\u001b[0;32m      4\u001b[0m \u001b[0mgenre_soup\u001b[0m\u001b[1;33m=\u001b[0m\u001b[0msoup\u001b[0m\u001b[1;33m.\u001b[0m\u001b[0mselect\u001b[0m\u001b[1;33m(\u001b[0m\u001b[1;34m'div:nth-child(2) > ul:nth-child(2) > li:nth-child(1) > a:nth-child(2)'\u001b[0m\u001b[1;33m)\u001b[0m\u001b[1;33m\u001b[0m\u001b[1;33m\u001b[0m\u001b[0m\n\u001b[1;32m----> 5\u001b[1;33m \u001b[0mprint\u001b[0m\u001b[1;33m(\u001b[0m\u001b[0mgenre_soup\u001b[0m\u001b[1;33m[\u001b[0m\u001b[1;36m82\u001b[0m\u001b[1;33m]\u001b[0m\u001b[1;33m)\u001b[0m\u001b[1;33m\u001b[0m\u001b[1;33m\u001b[0m\u001b[0m\n\u001b[0m",
      "\u001b[1;31mIndexError\u001b[0m: list index out of range"
     ]
    }
   ],
   "source": [
    "#Genre\n",
    "# This doesn't work. I tried something else, which only works half way, will come back to it!\n",
    "#chart-position-1 > div:nth-child(2) > ul:nth-child(2) > li:nth-child(1) > a:nth-child(2)#\n",
    "genre_soup=soup.select('div:nth-child(2) > ul:nth-child(2) > li:nth-child(1) > a:nth-child(2)')\n",
    "print(genre_soup[82])"
   ]
  },
  {
   "cell_type": "code",
   "execution_count": null,
   "metadata": {},
   "outputs": [],
   "source": [
    "#chart-position-93 > div.chart-content.col-xs-12.col-sm-8 > ul > li:nth-child(1)\n",
    "soup.select('div.chart-content.col-xs-12.col-sm-8 > ul > li:nth-child(1)')\n"
   ]
  },
  {
   "cell_type": "code",
   "execution_count": 12,
   "metadata": {},
   "outputs": [
    {
     "name": "stdout",
     "output_type": "stream",
     "text": [
      "<li><strong>Genre</strong>: <a href=\"/music/charts/top-pop-songs.php\">Pop</a></li>\n"
     ]
    }
   ],
   "source": [
    "#genre = []\n",
    "\n",
    "ge = soup.select('div.chart-content.col-xs-12.col-sm-8 > ul > li:nth-child(1)')[0]\n",
    "\n",
    "print(ge)\n",
    "\n",
    "#for ge in soup.select('div.chart-content.col-xs-12.col-sm-8 > ul > li:nth-child(1)'):\n",
    "#    # link = pr['href'] does not work; last item does not have an href\n",
    "#    link = ge.get(\"href\")\n",
    "#    print(link)\n",
    "#    if link is not None:\n",
    "#        if ((\"/wiki\" in link) & \n",
    "#            (\"election\" not in link) & \n",
    "#            (\"residen\" not in link)):\n",
    "#            presidents.append(link)"
   ]
  },
  {
   "cell_type": "code",
   "execution_count": null,
   "metadata": {},
   "outputs": [],
   "source": [
    "#Release Date:\n",
    "##chart-position-19 > div:nth-child(2) > ul:nth-child(2) > li:nth-child(2)\n",
    "# #chart-position-1 > div.chart-content.col-xs-12.col-sm-8 > ul > li:nth-child(2)\n",
    "release_date = soup.select('div.chart-content.col-xs-12.col-sm-8 > ul > li:nth-child(2)')\n",
    "display(release_date)\n",
    "\n",
    "##chart-position-1 > div.chart-content.col-xs-12.col-sm-8 > ul > li:nth-child(2)\n",
    "##chart-position-1 > div.chart-content.col-xs-12.col-sm-8 > ul > li:nth-child(1)"
   ]
  },
  {
   "cell_type": "markdown",
   "metadata": {},
   "source": [
    "## Create dataframe"
   ]
  },
  {
   "cell_type": "code",
   "execution_count": 14,
   "metadata": {},
   "outputs": [
    {
     "name": "stdout",
     "output_type": "stream",
     "text": [
      "100\n"
     ]
    }
   ],
   "source": [
    "#initialize empty lists\n",
    "title = []\n",
    "artist = []\n",
    "genre = []\n",
    "\n",
    "\n",
    "## define the number of iterations of our for loop\n",
    "## by checking how many elements are in the retrieved result set\n",
    "## (this is equivalent but more robust than just explicitly defining 250 iterations)\n",
    "num_iter = len(soup.select(\"cite.title\"))\n",
    "print(num_iter)\n",
    "#\n",
    "\n",
    "artist_soup = soup.select('em.artist')\n",
    "# = soup.select(\"\")\n",
    "#spanlist = soup.select(\"td.titleColumn span.secondaryInfo\")\n",
    "### iterate through the result set and retrive all the data\n",
    "for i in range(num_iter):\n",
    "    title.append(title_soup[i].get_text())\n",
    "    artist.append(artist_soup[i].get_text())\n",
    "    try:\n",
    "        genre.append(genre_soup[i].get_text())\n",
    "    except:\n",
    "        genre.append(\"NA\")\n",
    "    \n",
    "#\n",
    "#print(title)\n",
    "#print(dir_stars)\n",
    "#print(year)"
   ]
  },
  {
   "cell_type": "code",
   "execution_count": 16,
   "metadata": {
    "scrolled": true
   },
   "outputs": [
    {
     "data": {
      "text/html": [
       "<div>\n",
       "<style scoped>\n",
       "    .dataframe tbody tr th:only-of-type {\n",
       "        vertical-align: middle;\n",
       "    }\n",
       "\n",
       "    .dataframe tbody tr th {\n",
       "        vertical-align: top;\n",
       "    }\n",
       "\n",
       "    .dataframe thead th {\n",
       "        text-align: right;\n",
       "    }\n",
       "</style>\n",
       "<table border=\"1\" class=\"dataframe\">\n",
       "  <thead>\n",
       "    <tr style=\"text-align: right;\">\n",
       "      <th></th>\n",
       "      <th>title</th>\n",
       "      <th>artist</th>\n",
       "      <th>genre</th>\n",
       "    </tr>\n",
       "  </thead>\n",
       "  <tbody>\n",
       "    <tr>\n",
       "      <th>1</th>\n",
       "      <td>About Damn Time</td>\n",
       "      <td>Lizzo</td>\n",
       "      <td>Pop</td>\n",
       "    </tr>\n",
       "    <tr>\n",
       "      <th>2</th>\n",
       "      <td>Running Up That Hill (A Deal with God)</td>\n",
       "      <td>Kate Bush</td>\n",
       "      <td>Pop</td>\n",
       "    </tr>\n",
       "    <tr>\n",
       "      <th>3</th>\n",
       "      <td>Irrelevant</td>\n",
       "      <td>P!nk</td>\n",
       "      <td>Pop</td>\n",
       "    </tr>\n",
       "    <tr>\n",
       "      <th>4</th>\n",
       "      <td>Y'all Life</td>\n",
       "      <td>Walker Hayes</td>\n",
       "      <td>Pop</td>\n",
       "    </tr>\n",
       "    <tr>\n",
       "      <th>5</th>\n",
       "      <td>Names</td>\n",
       "      <td>Tom MacDonald</td>\n",
       "      <td>Country</td>\n",
       "    </tr>\n",
       "    <tr>\n",
       "      <th>...</th>\n",
       "      <td>...</td>\n",
       "      <td>...</td>\n",
       "      <td>...</td>\n",
       "    </tr>\n",
       "    <tr>\n",
       "      <th>96</th>\n",
       "      <td>STOP</td>\n",
       "      <td>j-hope</td>\n",
       "      <td>NA</td>\n",
       "    </tr>\n",
       "    <tr>\n",
       "      <th>97</th>\n",
       "      <td>Betty (Get Money)</td>\n",
       "      <td>Yung Gravy</td>\n",
       "      <td>NA</td>\n",
       "    </tr>\n",
       "    <tr>\n",
       "      <th>98</th>\n",
       "      <td>Heat Waves</td>\n",
       "      <td>Glass Animals</td>\n",
       "      <td>NA</td>\n",
       "    </tr>\n",
       "    <tr>\n",
       "      <th>99</th>\n",
       "      <td>Night Changes</td>\n",
       "      <td>One Direction</td>\n",
       "      <td>NA</td>\n",
       "    </tr>\n",
       "    <tr>\n",
       "      <th>100</th>\n",
       "      <td>Sand In My Boots</td>\n",
       "      <td>Morgan Wallen</td>\n",
       "      <td>NA</td>\n",
       "    </tr>\n",
       "  </tbody>\n",
       "</table>\n",
       "<p>100 rows × 3 columns</p>\n",
       "</div>"
      ],
      "text/plain": [
       "                                      title         artist    genre\n",
       "1                           About Damn Time          Lizzo      Pop\n",
       "2    Running Up That Hill (A Deal with God)      Kate Bush      Pop\n",
       "3                                Irrelevant           P!nk      Pop\n",
       "4                                Y'all Life   Walker Hayes      Pop\n",
       "5                                     Names  Tom MacDonald  Country\n",
       "..                                      ...            ...      ...\n",
       "96                                     STOP         j-hope       NA\n",
       "97                        Betty (Get Money)     Yung Gravy       NA\n",
       "98                               Heat Waves  Glass Animals       NA\n",
       "99                            Night Changes  One Direction       NA\n",
       "100                        Sand In My Boots  Morgan Wallen       NA\n",
       "\n",
       "[100 rows x 3 columns]"
      ]
     },
     "metadata": {},
     "output_type": "display_data"
    }
   ],
   "source": [
    "# each list becomes a column\n",
    "top_100 = pd.DataFrame({'title':title,\n",
    "                       'artist':artist,\n",
    "                        'genre':genre\n",
    "                      })\n",
    "top_100.index += 1\n",
    "display(top_100)"
   ]
  },
  {
   "cell_type": "code",
   "execution_count": 17,
   "metadata": {},
   "outputs": [
    {
     "data": {
      "text/html": [
       "<div>\n",
       "<style scoped>\n",
       "    .dataframe tbody tr th:only-of-type {\n",
       "        vertical-align: middle;\n",
       "    }\n",
       "\n",
       "    .dataframe tbody tr th {\n",
       "        vertical-align: top;\n",
       "    }\n",
       "\n",
       "    .dataframe thead th {\n",
       "        text-align: right;\n",
       "    }\n",
       "</style>\n",
       "<table border=\"1\" class=\"dataframe\">\n",
       "  <thead>\n",
       "    <tr style=\"text-align: right;\">\n",
       "      <th></th>\n",
       "      <th>title</th>\n",
       "      <th>artist</th>\n",
       "      <th>genre</th>\n",
       "    </tr>\n",
       "  </thead>\n",
       "  <tbody>\n",
       "    <tr>\n",
       "      <th>82</th>\n",
       "      <td>You</td>\n",
       "      <td>Louyah</td>\n",
       "      <td>NA</td>\n",
       "    </tr>\n",
       "    <tr>\n",
       "      <th>83</th>\n",
       "      <td>Hot n Cold</td>\n",
       "      <td>Katy Perry</td>\n",
       "      <td>NA</td>\n",
       "    </tr>\n",
       "    <tr>\n",
       "      <th>84</th>\n",
       "      <td>In Jesus Name (God Of Possible)</td>\n",
       "      <td>Katy Nichole</td>\n",
       "      <td>NA</td>\n",
       "    </tr>\n",
       "    <tr>\n",
       "      <th>85</th>\n",
       "      <td>Music For a Sushi Restaurant</td>\n",
       "      <td>Harry Styles</td>\n",
       "      <td>NA</td>\n",
       "    </tr>\n",
       "    <tr>\n",
       "      <th>86</th>\n",
       "      <td>Soul</td>\n",
       "      <td>Lee Brice</td>\n",
       "      <td>NA</td>\n",
       "    </tr>\n",
       "    <tr>\n",
       "      <th>87</th>\n",
       "      <td>Future</td>\n",
       "      <td>j-hope</td>\n",
       "      <td>NA</td>\n",
       "    </tr>\n",
       "    <tr>\n",
       "      <th>88</th>\n",
       "      <td>Pandora's Box</td>\n",
       "      <td>j-hope</td>\n",
       "      <td>NA</td>\n",
       "    </tr>\n",
       "    <tr>\n",
       "      <th>89</th>\n",
       "      <td>Safety Zone</td>\n",
       "      <td>j-hope</td>\n",
       "      <td>NA</td>\n",
       "    </tr>\n",
       "    <tr>\n",
       "      <th>90</th>\n",
       "      <td>What If…</td>\n",
       "      <td>j-hope</td>\n",
       "      <td>NA</td>\n",
       "    </tr>\n",
       "    <tr>\n",
       "      <th>91</th>\n",
       "      <td>Danger Zone</td>\n",
       "      <td>Kenny Loggins</td>\n",
       "      <td>NA</td>\n",
       "    </tr>\n",
       "    <tr>\n",
       "      <th>92</th>\n",
       "      <td>Numb Little Bug</td>\n",
       "      <td>Em Beihold</td>\n",
       "      <td>NA</td>\n",
       "    </tr>\n",
       "    <tr>\n",
       "      <th>93</th>\n",
       "      <td>Save Me</td>\n",
       "      <td>Jelly Roll</td>\n",
       "      <td>NA</td>\n",
       "    </tr>\n",
       "    <tr>\n",
       "      <th>94</th>\n",
       "      <td>Something in the Orange (Z&amp;E's Version)</td>\n",
       "      <td>Zach Bryan</td>\n",
       "      <td>NA</td>\n",
       "    </tr>\n",
       "    <tr>\n",
       "      <th>95</th>\n",
       "      <td>Kings &amp; Queens</td>\n",
       "      <td>Ava Max</td>\n",
       "      <td>NA</td>\n",
       "    </tr>\n",
       "    <tr>\n",
       "      <th>96</th>\n",
       "      <td>STOP</td>\n",
       "      <td>j-hope</td>\n",
       "      <td>NA</td>\n",
       "    </tr>\n",
       "    <tr>\n",
       "      <th>97</th>\n",
       "      <td>Betty (Get Money)</td>\n",
       "      <td>Yung Gravy</td>\n",
       "      <td>NA</td>\n",
       "    </tr>\n",
       "    <tr>\n",
       "      <th>98</th>\n",
       "      <td>Heat Waves</td>\n",
       "      <td>Glass Animals</td>\n",
       "      <td>NA</td>\n",
       "    </tr>\n",
       "    <tr>\n",
       "      <th>99</th>\n",
       "      <td>Night Changes</td>\n",
       "      <td>One Direction</td>\n",
       "      <td>NA</td>\n",
       "    </tr>\n",
       "    <tr>\n",
       "      <th>100</th>\n",
       "      <td>Sand In My Boots</td>\n",
       "      <td>Morgan Wallen</td>\n",
       "      <td>NA</td>\n",
       "    </tr>\n",
       "  </tbody>\n",
       "</table>\n",
       "</div>"
      ],
      "text/plain": [
       "                                       title         artist genre\n",
       "82                                       You         Louyah    NA\n",
       "83                                Hot n Cold     Katy Perry    NA\n",
       "84           In Jesus Name (God Of Possible)   Katy Nichole    NA\n",
       "85              Music For a Sushi Restaurant   Harry Styles    NA\n",
       "86                                      Soul      Lee Brice    NA\n",
       "87                                    Future         j-hope    NA\n",
       "88                             Pandora's Box         j-hope    NA\n",
       "89                               Safety Zone         j-hope    NA\n",
       "90                                  What If…         j-hope    NA\n",
       "91                               Danger Zone  Kenny Loggins    NA\n",
       "92                           Numb Little Bug     Em Beihold    NA\n",
       "93                                   Save Me     Jelly Roll    NA\n",
       "94   Something in the Orange (Z&E's Version)     Zach Bryan    NA\n",
       "95                            Kings & Queens        Ava Max    NA\n",
       "96                                      STOP         j-hope    NA\n",
       "97                         Betty (Get Money)     Yung Gravy    NA\n",
       "98                                Heat Waves  Glass Animals    NA\n",
       "99                             Night Changes  One Direction    NA\n",
       "100                         Sand In My Boots  Morgan Wallen    NA"
      ]
     },
     "execution_count": 17,
     "metadata": {},
     "output_type": "execute_result"
    }
   ],
   "source": [
    "top_100[top_100['genre'] == 'NA']"
   ]
  },
  {
   "cell_type": "code",
   "execution_count": 116,
   "metadata": {},
   "outputs": [],
   "source": [
    "## https://stackoverflow.com/questions/39512002/convert-whole-dataframe-from-lower-case-to-upper-case-with-pandas\n",
    "top_100_lower = top_100.apply(lambda x: x.astype(str).str.lower())"
   ]
  },
  {
   "cell_type": "markdown",
   "metadata": {},
   "source": [
    "## Use different website:"
   ]
  },
  {
   "cell_type": "code",
   "execution_count": null,
   "metadata": {},
   "outputs": [],
   "source": [
    "url2 = 'https://playback.fm/charts/top-100-songs/2021'"
   ]
  },
  {
   "cell_type": "code",
   "execution_count": null,
   "metadata": {},
   "outputs": [],
   "source": [
    "response = requests.get(url2)\n",
    "response.status_code "
   ]
  },
  {
   "cell_type": "code",
   "execution_count": null,
   "metadata": {},
   "outputs": [],
   "source": [
    "soup2 = BeautifulSoup(response.content, \"html.parser\")"
   ]
  },
  {
   "cell_type": "code",
   "execution_count": null,
   "metadata": {},
   "outputs": [],
   "source": [
    "print(soup2.prettify())"
   ]
  },
  {
   "cell_type": "code",
   "execution_count": null,
   "metadata": {},
   "outputs": [],
   "source": [
    "# Selecting the info we want to have: at least title and artist, if available genre:\n",
    "\n",
    "soup2.select('tr td a.artist')[0].get_text().replace('\\n','')\n"
   ]
  },
  {
   "cell_type": "code",
   "execution_count": null,
   "metadata": {},
   "outputs": [],
   "source": [
    "len(soup2.select('tr td a.artist'))"
   ]
  },
  {
   "cell_type": "code",
   "execution_count": null,
   "metadata": {},
   "outputs": [],
   "source": [
    "soup2.select('tr td span.song')[1].get_text().replace('\\n','')\n",
    "#soup2.find_all(class_=\"song\")\n"
   ]
  },
  {
   "cell_type": "code",
   "execution_count": null,
   "metadata": {},
   "outputs": [],
   "source": [
    "len(soup2.select('tr td span.song'))"
   ]
  },
  {
   "cell_type": "code",
   "execution_count": null,
   "metadata": {},
   "outputs": [],
   "source": [
    "iterations = range(0,200, 2)\n",
    "print([i for i in iterations])\n",
    "\n",
    "title2 = []\n",
    "artist2 = []\n",
    "\n",
    "for i in iterations:\n",
    "    title2.append(soup2.select('tr td span.song')[i].get_text().replace('\\n',''))\n",
    "\n",
    "for i in range(0, 100):\n",
    "    artist2.append(soup2.select('tr td a.artist')[i].get_text().replace('\\n', ''))\n",
    "\n"
   ]
  },
  {
   "cell_type": "code",
   "execution_count": null,
   "metadata": {},
   "outputs": [],
   "source": [
    "# Create a DataFrame:\n",
    "top_100_21 = pd.DataFrame({'title':title2,\n",
    "                       'artist':artist2,\n",
    "                      })\n",
    "\n",
    "top_100_21.index += 1\n",
    "display(top_100_21)"
   ]
  },
  {
   "cell_type": "markdown",
   "metadata": {},
   "source": [
    "## 1st prototype"
   ]
  },
  {
   "cell_type": "code",
   "execution_count": 77,
   "metadata": {},
   "outputs": [],
   "source": [
    "#Import libraries:\n",
    "import random"
   ]
  },
  {
   "cell_type": "code",
   "execution_count": 134,
   "metadata": {},
   "outputs": [
    {
     "name": "stdout",
     "output_type": "stream",
     "text": [
      "Enter your favourite song: running up that hill\n"
     ]
    }
   ],
   "source": [
    "# Let the user give a song:\n",
    "song = input(\"Enter your favourite song (without artist): \")"
   ]
  },
  {
   "cell_type": "code",
   "execution_count": 135,
   "metadata": {},
   "outputs": [
    {
     "name": "stdout",
     "output_type": "stream",
     "text": [
      "Yay, hot song! Here is another one for you: \n",
      " \n",
      "Big Energy - Latto\n"
     ]
    }
   ],
   "source": [
    "#make the input lower case, so all the mess that can happen during the input is minimized\n",
    "song = song.lower()\n",
    "\n",
    "#create a list with booleans, then put this into the dataframe to get the line with the song and check on the length of this df.\n",
    "# If it is 0 we haven't found a title --> It is not in the Top Ten\n",
    "if len(top_100_lower[top_100_lower['title'].str.contains(song)]) >= 1:\n",
    "    n = random.randint(1,100)   # create a random number to make a suggestion\n",
    "    print('Yay, hot song! Here is another one for you: \\n \\n' + str(top_100.iloc[n, 0]) + ' - ' + str(top_100.iloc[n, 1]))\n",
    "    #print out the title and the artist (This time from top_100, because titles have the original format)\n",
    "else: \n",
    "    print('I cannot recommand anything! sorry!')"
   ]
  },
  {
   "cell_type": "code",
   "execution_count": null,
   "metadata": {},
   "outputs": [],
   "source": []
  },
  {
   "cell_type": "code",
   "execution_count": null,
   "metadata": {},
   "outputs": [],
   "source": []
  },
  {
   "cell_type": "code",
   "execution_count": null,
   "metadata": {},
   "outputs": [],
   "source": []
  },
  {
   "cell_type": "code",
   "execution_count": null,
   "metadata": {},
   "outputs": [],
   "source": []
  },
  {
   "cell_type": "code",
   "execution_count": null,
   "metadata": {},
   "outputs": [],
   "source": []
  },
  {
   "cell_type": "code",
   "execution_count": 97,
   "metadata": {},
   "outputs": [
    {
     "name": "stdout",
     "output_type": "stream",
     "text": [
      "Quietly Yours\n"
     ]
    }
   ],
   "source": [
    "#Nice, but I want more control. So I didn't use it\n",
    "recommanded_titel = random.choice(top_100.title)\n",
    "print(recommanded_titel)"
   ]
  },
  {
   "cell_type": "code",
   "execution_count": null,
   "metadata": {},
   "outputs": [],
   "source": [
    "# Two different ideas for the selection. Please ignore these, Erin, they are just for my record"
   ]
  },
  {
   "cell_type": "code",
   "execution_count": 136,
   "metadata": {},
   "outputs": [
    {
     "data": {
      "text/html": [
       "<div>\n",
       "<style scoped>\n",
       "    .dataframe tbody tr th:only-of-type {\n",
       "        vertical-align: middle;\n",
       "    }\n",
       "\n",
       "    .dataframe tbody tr th {\n",
       "        vertical-align: top;\n",
       "    }\n",
       "\n",
       "    .dataframe thead th {\n",
       "        text-align: right;\n",
       "    }\n",
       "</style>\n",
       "<table border=\"1\" class=\"dataframe\">\n",
       "  <thead>\n",
       "    <tr style=\"text-align: right;\">\n",
       "      <th></th>\n",
       "      <th>title</th>\n",
       "      <th>artist</th>\n",
       "      <th>genre</th>\n",
       "    </tr>\n",
       "  </thead>\n",
       "  <tbody>\n",
       "  </tbody>\n",
       "</table>\n",
       "</div>"
      ],
      "text/plain": [
       "Empty DataFrame\n",
       "Columns: [title, artist, genre]\n",
       "Index: []"
      ]
     },
     "execution_count": 136,
     "metadata": {},
     "output_type": "execute_result"
    }
   ],
   "source": [
    "top_100_lower[song == top_100_lower['title']]"
   ]
  },
  {
   "cell_type": "code",
   "execution_count": 34,
   "metadata": {},
   "outputs": [
    {
     "data": {
      "text/plain": [
       "1      False\n",
       "2      False\n",
       "3      False\n",
       "4      False\n",
       "5      False\n",
       "       ...  \n",
       "96     False\n",
       "97     False\n",
       "98     False\n",
       "99     False\n",
       "100    False\n",
       "Name: title, Length: 100, dtype: bool"
      ]
     },
     "execution_count": 34,
     "metadata": {},
     "output_type": "execute_result"
    }
   ],
   "source": [
    "top_100['title'].str.contains(song)"
   ]
  }
 ],
 "metadata": {
  "kernelspec": {
   "display_name": "Python 3",
   "language": "python",
   "name": "python3"
  },
  "language_info": {
   "codemirror_mode": {
    "name": "ipython",
    "version": 3
   },
   "file_extension": ".py",
   "mimetype": "text/x-python",
   "name": "python",
   "nbconvert_exporter": "python",
   "pygments_lexer": "ipython3",
   "version": "3.8.5"
  }
 },
 "nbformat": 4,
 "nbformat_minor": 4
}
